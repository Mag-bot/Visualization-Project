{
 "cells": [
  {
   "cell_type": "markdown",
   "metadata": {},
   "source": [
    "# Prosper Loan Data Wrangling\n",
    "\n",
    "### by Magon Bowling\n",
    "\n",
    "## Preliminary Wrangling\n",
    "The Prosper Loan Data was made available for download by Udacity in the course resources.  The file was manually downloaded and then uploaded to Jupyter Notebook for wrangling and analysis.  The dataset contains information regarding over 100,000 loans."
   ]
  },
  {
   "cell_type": "code",
   "execution_count": 1,
   "metadata": {},
   "outputs": [],
   "source": [
    "# Import all packages\n",
    "import numpy as np\n",
    "import pandas as pd\n",
    "import matplotlib.pyplot as plt\n",
    "import seaborn as sb\n",
    "\n",
    "%matplotlib inline"
   ]
  },
  {
   "cell_type": "code",
   "execution_count": 2,
   "metadata": {},
   "outputs": [],
   "source": [
    "# Load the .csv file containing the prosper loan data\n",
    "df = pd.read_csv('prosperLoanData.csv')"
   ]
  },
  {
   "cell_type": "code",
   "execution_count": 3,
   "metadata": {},
   "outputs": [
    {
     "data": {
      "text/plain": [
       "(113937, 81)"
      ]
     },
     "execution_count": 3,
     "metadata": {},
     "output_type": "execute_result"
    }
   ],
   "source": [
    "# Get an overview of the dataset and structure\n",
    "df.shape"
   ]
  },
  {
   "cell_type": "code",
   "execution_count": 4,
   "metadata": {},
   "outputs": [
    {
     "data": {
      "text/html": [
       "<div>\n",
       "<style scoped>\n",
       "    .dataframe tbody tr th:only-of-type {\n",
       "        vertical-align: middle;\n",
       "    }\n",
       "\n",
       "    .dataframe tbody tr th {\n",
       "        vertical-align: top;\n",
       "    }\n",
       "\n",
       "    .dataframe thead th {\n",
       "        text-align: right;\n",
       "    }\n",
       "</style>\n",
       "<table border=\"1\" class=\"dataframe\">\n",
       "  <thead>\n",
       "    <tr style=\"text-align: right;\">\n",
       "      <th></th>\n",
       "      <th>ListingKey</th>\n",
       "      <th>ListingNumber</th>\n",
       "      <th>ListingCreationDate</th>\n",
       "      <th>CreditGrade</th>\n",
       "      <th>Term</th>\n",
       "      <th>LoanStatus</th>\n",
       "      <th>ClosedDate</th>\n",
       "      <th>BorrowerAPR</th>\n",
       "      <th>BorrowerRate</th>\n",
       "      <th>LenderYield</th>\n",
       "      <th>...</th>\n",
       "      <th>LP_ServiceFees</th>\n",
       "      <th>LP_CollectionFees</th>\n",
       "      <th>LP_GrossPrincipalLoss</th>\n",
       "      <th>LP_NetPrincipalLoss</th>\n",
       "      <th>LP_NonPrincipalRecoverypayments</th>\n",
       "      <th>PercentFunded</th>\n",
       "      <th>Recommendations</th>\n",
       "      <th>InvestmentFromFriendsCount</th>\n",
       "      <th>InvestmentFromFriendsAmount</th>\n",
       "      <th>Investors</th>\n",
       "    </tr>\n",
       "  </thead>\n",
       "  <tbody>\n",
       "    <tr>\n",
       "      <th>0</th>\n",
       "      <td>1021339766868145413AB3B</td>\n",
       "      <td>193129</td>\n",
       "      <td>2007-08-26 19:09:29.263000000</td>\n",
       "      <td>C</td>\n",
       "      <td>36</td>\n",
       "      <td>Completed</td>\n",
       "      <td>2009-08-14 00:00:00</td>\n",
       "      <td>0.16516</td>\n",
       "      <td>0.1580</td>\n",
       "      <td>0.1380</td>\n",
       "      <td>...</td>\n",
       "      <td>-133.18</td>\n",
       "      <td>0.0</td>\n",
       "      <td>0.0</td>\n",
       "      <td>0.0</td>\n",
       "      <td>0.0</td>\n",
       "      <td>1.0</td>\n",
       "      <td>0</td>\n",
       "      <td>0</td>\n",
       "      <td>0.0</td>\n",
       "      <td>258</td>\n",
       "    </tr>\n",
       "    <tr>\n",
       "      <th>1</th>\n",
       "      <td>10273602499503308B223C1</td>\n",
       "      <td>1209647</td>\n",
       "      <td>2014-02-27 08:28:07.900000000</td>\n",
       "      <td>NaN</td>\n",
       "      <td>36</td>\n",
       "      <td>Current</td>\n",
       "      <td>NaN</td>\n",
       "      <td>0.12016</td>\n",
       "      <td>0.0920</td>\n",
       "      <td>0.0820</td>\n",
       "      <td>...</td>\n",
       "      <td>0.00</td>\n",
       "      <td>0.0</td>\n",
       "      <td>0.0</td>\n",
       "      <td>0.0</td>\n",
       "      <td>0.0</td>\n",
       "      <td>1.0</td>\n",
       "      <td>0</td>\n",
       "      <td>0</td>\n",
       "      <td>0.0</td>\n",
       "      <td>1</td>\n",
       "    </tr>\n",
       "    <tr>\n",
       "      <th>2</th>\n",
       "      <td>0EE9337825851032864889A</td>\n",
       "      <td>81716</td>\n",
       "      <td>2007-01-05 15:00:47.090000000</td>\n",
       "      <td>HR</td>\n",
       "      <td>36</td>\n",
       "      <td>Completed</td>\n",
       "      <td>2009-12-17 00:00:00</td>\n",
       "      <td>0.28269</td>\n",
       "      <td>0.2750</td>\n",
       "      <td>0.2400</td>\n",
       "      <td>...</td>\n",
       "      <td>-24.20</td>\n",
       "      <td>0.0</td>\n",
       "      <td>0.0</td>\n",
       "      <td>0.0</td>\n",
       "      <td>0.0</td>\n",
       "      <td>1.0</td>\n",
       "      <td>0</td>\n",
       "      <td>0</td>\n",
       "      <td>0.0</td>\n",
       "      <td>41</td>\n",
       "    </tr>\n",
       "    <tr>\n",
       "      <th>3</th>\n",
       "      <td>0EF5356002482715299901A</td>\n",
       "      <td>658116</td>\n",
       "      <td>2012-10-22 11:02:35.010000000</td>\n",
       "      <td>NaN</td>\n",
       "      <td>36</td>\n",
       "      <td>Current</td>\n",
       "      <td>NaN</td>\n",
       "      <td>0.12528</td>\n",
       "      <td>0.0974</td>\n",
       "      <td>0.0874</td>\n",
       "      <td>...</td>\n",
       "      <td>-108.01</td>\n",
       "      <td>0.0</td>\n",
       "      <td>0.0</td>\n",
       "      <td>0.0</td>\n",
       "      <td>0.0</td>\n",
       "      <td>1.0</td>\n",
       "      <td>0</td>\n",
       "      <td>0</td>\n",
       "      <td>0.0</td>\n",
       "      <td>158</td>\n",
       "    </tr>\n",
       "    <tr>\n",
       "      <th>4</th>\n",
       "      <td>0F023589499656230C5E3E2</td>\n",
       "      <td>909464</td>\n",
       "      <td>2013-09-14 18:38:39.097000000</td>\n",
       "      <td>NaN</td>\n",
       "      <td>36</td>\n",
       "      <td>Current</td>\n",
       "      <td>NaN</td>\n",
       "      <td>0.24614</td>\n",
       "      <td>0.2085</td>\n",
       "      <td>0.1985</td>\n",
       "      <td>...</td>\n",
       "      <td>-60.27</td>\n",
       "      <td>0.0</td>\n",
       "      <td>0.0</td>\n",
       "      <td>0.0</td>\n",
       "      <td>0.0</td>\n",
       "      <td>1.0</td>\n",
       "      <td>0</td>\n",
       "      <td>0</td>\n",
       "      <td>0.0</td>\n",
       "      <td>20</td>\n",
       "    </tr>\n",
       "  </tbody>\n",
       "</table>\n",
       "<p>5 rows × 81 columns</p>\n",
       "</div>"
      ],
      "text/plain": [
       "                ListingKey  ListingNumber            ListingCreationDate  \\\n",
       "0  1021339766868145413AB3B         193129  2007-08-26 19:09:29.263000000   \n",
       "1  10273602499503308B223C1        1209647  2014-02-27 08:28:07.900000000   \n",
       "2  0EE9337825851032864889A          81716  2007-01-05 15:00:47.090000000   \n",
       "3  0EF5356002482715299901A         658116  2012-10-22 11:02:35.010000000   \n",
       "4  0F023589499656230C5E3E2         909464  2013-09-14 18:38:39.097000000   \n",
       "\n",
       "  CreditGrade  Term LoanStatus           ClosedDate  BorrowerAPR  \\\n",
       "0           C    36  Completed  2009-08-14 00:00:00      0.16516   \n",
       "1         NaN    36    Current                  NaN      0.12016   \n",
       "2          HR    36  Completed  2009-12-17 00:00:00      0.28269   \n",
       "3         NaN    36    Current                  NaN      0.12528   \n",
       "4         NaN    36    Current                  NaN      0.24614   \n",
       "\n",
       "   BorrowerRate  LenderYield  ...  LP_ServiceFees  LP_CollectionFees  \\\n",
       "0        0.1580       0.1380  ...         -133.18                0.0   \n",
       "1        0.0920       0.0820  ...            0.00                0.0   \n",
       "2        0.2750       0.2400  ...          -24.20                0.0   \n",
       "3        0.0974       0.0874  ...         -108.01                0.0   \n",
       "4        0.2085       0.1985  ...          -60.27                0.0   \n",
       "\n",
       "   LP_GrossPrincipalLoss  LP_NetPrincipalLoss LP_NonPrincipalRecoverypayments  \\\n",
       "0                    0.0                  0.0                             0.0   \n",
       "1                    0.0                  0.0                             0.0   \n",
       "2                    0.0                  0.0                             0.0   \n",
       "3                    0.0                  0.0                             0.0   \n",
       "4                    0.0                  0.0                             0.0   \n",
       "\n",
       "   PercentFunded  Recommendations InvestmentFromFriendsCount  \\\n",
       "0            1.0                0                          0   \n",
       "1            1.0                0                          0   \n",
       "2            1.0                0                          0   \n",
       "3            1.0                0                          0   \n",
       "4            1.0                0                          0   \n",
       "\n",
       "  InvestmentFromFriendsAmount Investors  \n",
       "0                         0.0       258  \n",
       "1                         0.0         1  \n",
       "2                         0.0        41  \n",
       "3                         0.0       158  \n",
       "4                         0.0        20  \n",
       "\n",
       "[5 rows x 81 columns]"
      ]
     },
     "execution_count": 4,
     "metadata": {},
     "output_type": "execute_result"
    }
   ],
   "source": [
    "# First five rows of the dataset\n",
    "df.head()"
   ]
  },
  {
   "cell_type": "markdown",
   "metadata": {},
   "source": [
    "### What is the structure of the dataset?\n",
    "\n",
    "The loan dataset contains 113,937 rows and 81 variable columns.  The loan information provides rates, status, term length, number of lenders and more.  We will explore all the necessary information in the dataset by assessing the data, cleaning the data for visualization, and then creating appropriate visuals to illustration the information gathered.  "
   ]
  },
  {
   "cell_type": "code",
   "execution_count": 5,
   "metadata": {},
   "outputs": [
    {
     "name": "stdout",
     "output_type": "stream",
     "text": [
      "<class 'pandas.core.frame.DataFrame'>\n",
      "RangeIndex: 113937 entries, 0 to 113936\n",
      "Data columns (total 81 columns):\n",
      " #   Column                               Non-Null Count   Dtype  \n",
      "---  ------                               --------------   -----  \n",
      " 0   ListingKey                           113937 non-null  object \n",
      " 1   ListingNumber                        113937 non-null  int64  \n",
      " 2   ListingCreationDate                  113937 non-null  object \n",
      " 3   CreditGrade                          28953 non-null   object \n",
      " 4   Term                                 113937 non-null  int64  \n",
      " 5   LoanStatus                           113937 non-null  object \n",
      " 6   ClosedDate                           55089 non-null   object \n",
      " 7   BorrowerAPR                          113912 non-null  float64\n",
      " 8   BorrowerRate                         113937 non-null  float64\n",
      " 9   LenderYield                          113937 non-null  float64\n",
      " 10  EstimatedEffectiveYield              84853 non-null   float64\n",
      " 11  EstimatedLoss                        84853 non-null   float64\n",
      " 12  EstimatedReturn                      84853 non-null   float64\n",
      " 13  ProsperRating (numeric)              84853 non-null   float64\n",
      " 14  ProsperRating (Alpha)                84853 non-null   object \n",
      " 15  ProsperScore                         84853 non-null   float64\n",
      " 16  ListingCategory (numeric)            113937 non-null  int64  \n",
      " 17  BorrowerState                        108422 non-null  object \n",
      " 18  Occupation                           110349 non-null  object \n",
      " 19  EmploymentStatus                     111682 non-null  object \n",
      " 20  EmploymentStatusDuration             106312 non-null  float64\n",
      " 21  IsBorrowerHomeowner                  113937 non-null  bool   \n",
      " 22  CurrentlyInGroup                     113937 non-null  bool   \n",
      " 23  GroupKey                             13341 non-null   object \n",
      " 24  DateCreditPulled                     113937 non-null  object \n",
      " 25  CreditScoreRangeLower                113346 non-null  float64\n",
      " 26  CreditScoreRangeUpper                113346 non-null  float64\n",
      " 27  FirstRecordedCreditLine              113240 non-null  object \n",
      " 28  CurrentCreditLines                   106333 non-null  float64\n",
      " 29  OpenCreditLines                      106333 non-null  float64\n",
      " 30  TotalCreditLinespast7years           113240 non-null  float64\n",
      " 31  OpenRevolvingAccounts                113937 non-null  int64  \n",
      " 32  OpenRevolvingMonthlyPayment          113937 non-null  float64\n",
      " 33  InquiriesLast6Months                 113240 non-null  float64\n",
      " 34  TotalInquiries                       112778 non-null  float64\n",
      " 35  CurrentDelinquencies                 113240 non-null  float64\n",
      " 36  AmountDelinquent                     106315 non-null  float64\n",
      " 37  DelinquenciesLast7Years              112947 non-null  float64\n",
      " 38  PublicRecordsLast10Years             113240 non-null  float64\n",
      " 39  PublicRecordsLast12Months            106333 non-null  float64\n",
      " 40  RevolvingCreditBalance               106333 non-null  float64\n",
      " 41  BankcardUtilization                  106333 non-null  float64\n",
      " 42  AvailableBankcardCredit              106393 non-null  float64\n",
      " 43  TotalTrades                          106393 non-null  float64\n",
      " 44  TradesNeverDelinquent (percentage)   106393 non-null  float64\n",
      " 45  TradesOpenedLast6Months              106393 non-null  float64\n",
      " 46  DebtToIncomeRatio                    105383 non-null  float64\n",
      " 47  IncomeRange                          113937 non-null  object \n",
      " 48  IncomeVerifiable                     113937 non-null  bool   \n",
      " 49  StatedMonthlyIncome                  113937 non-null  float64\n",
      " 50  LoanKey                              113937 non-null  object \n",
      " 51  TotalProsperLoans                    22085 non-null   float64\n",
      " 52  TotalProsperPaymentsBilled           22085 non-null   float64\n",
      " 53  OnTimeProsperPayments                22085 non-null   float64\n",
      " 54  ProsperPaymentsLessThanOneMonthLate  22085 non-null   float64\n",
      " 55  ProsperPaymentsOneMonthPlusLate      22085 non-null   float64\n",
      " 56  ProsperPrincipalBorrowed             22085 non-null   float64\n",
      " 57  ProsperPrincipalOutstanding          22085 non-null   float64\n",
      " 58  ScorexChangeAtTimeOfListing          18928 non-null   float64\n",
      " 59  LoanCurrentDaysDelinquent            113937 non-null  int64  \n",
      " 60  LoanFirstDefaultedCycleNumber        16952 non-null   float64\n",
      " 61  LoanMonthsSinceOrigination           113937 non-null  int64  \n",
      " 62  LoanNumber                           113937 non-null  int64  \n",
      " 63  LoanOriginalAmount                   113937 non-null  int64  \n",
      " 64  LoanOriginationDate                  113937 non-null  object \n",
      " 65  LoanOriginationQuarter               113937 non-null  object \n",
      " 66  MemberKey                            113937 non-null  object \n",
      " 67  MonthlyLoanPayment                   113937 non-null  float64\n",
      " 68  LP_CustomerPayments                  113937 non-null  float64\n",
      " 69  LP_CustomerPrincipalPayments         113937 non-null  float64\n",
      " 70  LP_InterestandFees                   113937 non-null  float64\n",
      " 71  LP_ServiceFees                       113937 non-null  float64\n",
      " 72  LP_CollectionFees                    113937 non-null  float64\n",
      " 73  LP_GrossPrincipalLoss                113937 non-null  float64\n",
      " 74  LP_NetPrincipalLoss                  113937 non-null  float64\n",
      " 75  LP_NonPrincipalRecoverypayments      113937 non-null  float64\n",
      " 76  PercentFunded                        113937 non-null  float64\n",
      " 77  Recommendations                      113937 non-null  int64  \n",
      " 78  InvestmentFromFriendsCount           113937 non-null  int64  \n",
      " 79  InvestmentFromFriendsAmount          113937 non-null  float64\n",
      " 80  Investors                            113937 non-null  int64  \n",
      "dtypes: bool(3), float64(50), int64(11), object(17)\n",
      "memory usage: 68.1+ MB\n"
     ]
    }
   ],
   "source": [
    "# Summary of the dataset information\n",
    "df.info()"
   ]
  },
  {
   "cell_type": "markdown",
   "metadata": {},
   "source": [
    "### What are the main features of interest in your dataset?\n",
    "\n",
    "I am interested in the income of individuals with loans and how they are able to handle their loan payments.  I want to explore credit score ranges, debt to income ratios, loan amounts, monthly payments, employment status and durations, and homeowner status in comparision to the income.  I also want to explore various types of loans in relationship to the former listing.  I will create a copy of the dataframe that includes only the columns or vaiables that I am interested in exploring and analyzing:\n",
    "\n",
    "* ListingKey\n",
    "* Term\n",
    "* BorrowerAPR\n",
    "* ListingCategory\n",
    "* BorrowerState\n",
    "* EmploymentStatus\n",
    "* EmploymentStatusDuration\n",
    "* IsBorrowerHomeowner\n",
    "* CreditScoreReportLower\n",
    "* CreditScoreReportUpper\n",
    "* DebtToIncomeRatio\n",
    "* IncomeRange\n",
    "* StatedMonthlyIncome\n",
    "* LoanOriginalAmount\n",
    "* MonthlyLoanPayment"
   ]
  },
  {
   "cell_type": "markdown",
   "metadata": {},
   "source": [
    "### What features in the dataset do you think will help support your investigation into your features of interest?\n",
    "\n",
    "I suspect that those with higher credit scores, higher incomes, and longer employment status will have the best debt to income ratio as well as lower loan amounts.  "
   ]
  },
  {
   "cell_type": "markdown",
   "metadata": {},
   "source": [
    "## Assessing the Data\n",
    "\n",
    "To begin the wrangling process, I will make a copy of the dataframe that will include the 15 columns listed above.  Next I will check for quality and tidiness issues to better prepare for visualization and analysis.  After I clean the data, I will explore the data through visualizations and explain the findings within those visualizations.  Let's get started!"
   ]
  },
  {
   "cell_type": "code",
   "execution_count": 6,
   "metadata": {},
   "outputs": [],
   "source": [
    "# Create a sub-dataset from Prosper loan data which contains only the 15 stated variables\n",
    "df_clean = df.copy()\n",
    "df_clean = df_clean.iloc[:, np.r_[0, 4, 7, 16, 17, 19, 20, 21, 25, 26, 46, 47, 49, 63, 67]]"
   ]
  },
  {
   "cell_type": "code",
   "execution_count": 7,
   "metadata": {},
   "outputs": [
    {
     "name": "stdout",
     "output_type": "stream",
     "text": [
      "<class 'pandas.core.frame.DataFrame'>\n",
      "RangeIndex: 113937 entries, 0 to 113936\n",
      "Data columns (total 15 columns):\n",
      " #   Column                     Non-Null Count   Dtype  \n",
      "---  ------                     --------------   -----  \n",
      " 0   ListingKey                 113937 non-null  object \n",
      " 1   Term                       113937 non-null  int64  \n",
      " 2   BorrowerAPR                113912 non-null  float64\n",
      " 3   ListingCategory (numeric)  113937 non-null  int64  \n",
      " 4   BorrowerState              108422 non-null  object \n",
      " 5   EmploymentStatus           111682 non-null  object \n",
      " 6   EmploymentStatusDuration   106312 non-null  float64\n",
      " 7   IsBorrowerHomeowner        113937 non-null  bool   \n",
      " 8   CreditScoreRangeLower      113346 non-null  float64\n",
      " 9   CreditScoreRangeUpper      113346 non-null  float64\n",
      " 10  DebtToIncomeRatio          105383 non-null  float64\n",
      " 11  IncomeRange                113937 non-null  object \n",
      " 12  StatedMonthlyIncome        113937 non-null  float64\n",
      " 13  LoanOriginalAmount         113937 non-null  int64  \n",
      " 14  MonthlyLoanPayment         113937 non-null  float64\n",
      "dtypes: bool(1), float64(7), int64(3), object(4)\n",
      "memory usage: 12.3+ MB\n"
     ]
    }
   ],
   "source": [
    "# View summary of sub-dataset\n",
    "df_clean.info()"
   ]
  },
  {
   "cell_type": "code",
   "execution_count": 8,
   "metadata": {},
   "outputs": [
    {
     "data": {
      "text/plain": [
       "ListingKey                   113066\n",
       "Term                              3\n",
       "BorrowerAPR                    6677\n",
       "ListingCategory (numeric)        21\n",
       "BorrowerState                    51\n",
       "EmploymentStatus                  8\n",
       "EmploymentStatusDuration        605\n",
       "IsBorrowerHomeowner               2\n",
       "CreditScoreRangeLower            26\n",
       "CreditScoreRangeUpper            26\n",
       "DebtToIncomeRatio              1207\n",
       "IncomeRange                       8\n",
       "StatedMonthlyIncome           13502\n",
       "LoanOriginalAmount             2468\n",
       "MonthlyLoanPayment            23567\n",
       "dtype: int64"
      ]
     },
     "execution_count": 8,
     "metadata": {},
     "output_type": "execute_result"
    }
   ],
   "source": [
    "# Check for uniqueness\n",
    "df_clean.nunique()"
   ]
  },
  {
   "cell_type": "code",
   "execution_count": 9,
   "metadata": {},
   "outputs": [
    {
     "data": {
      "text/html": [
       "<div>\n",
       "<style scoped>\n",
       "    .dataframe tbody tr th:only-of-type {\n",
       "        vertical-align: middle;\n",
       "    }\n",
       "\n",
       "    .dataframe tbody tr th {\n",
       "        vertical-align: top;\n",
       "    }\n",
       "\n",
       "    .dataframe thead th {\n",
       "        text-align: right;\n",
       "    }\n",
       "</style>\n",
       "<table border=\"1\" class=\"dataframe\">\n",
       "  <thead>\n",
       "    <tr style=\"text-align: right;\">\n",
       "      <th></th>\n",
       "      <th>Term</th>\n",
       "      <th>BorrowerAPR</th>\n",
       "      <th>ListingCategory (numeric)</th>\n",
       "      <th>EmploymentStatusDuration</th>\n",
       "      <th>CreditScoreRangeLower</th>\n",
       "      <th>CreditScoreRangeUpper</th>\n",
       "      <th>DebtToIncomeRatio</th>\n",
       "      <th>StatedMonthlyIncome</th>\n",
       "      <th>LoanOriginalAmount</th>\n",
       "      <th>MonthlyLoanPayment</th>\n",
       "    </tr>\n",
       "  </thead>\n",
       "  <tbody>\n",
       "    <tr>\n",
       "      <th>count</th>\n",
       "      <td>113937.000000</td>\n",
       "      <td>113912.000000</td>\n",
       "      <td>113937.000000</td>\n",
       "      <td>106312.000000</td>\n",
       "      <td>113346.000000</td>\n",
       "      <td>113346.000000</td>\n",
       "      <td>105383.000000</td>\n",
       "      <td>1.139370e+05</td>\n",
       "      <td>113937.00000</td>\n",
       "      <td>113937.000000</td>\n",
       "    </tr>\n",
       "    <tr>\n",
       "      <th>mean</th>\n",
       "      <td>40.830248</td>\n",
       "      <td>0.218828</td>\n",
       "      <td>2.774209</td>\n",
       "      <td>96.071582</td>\n",
       "      <td>685.567731</td>\n",
       "      <td>704.567731</td>\n",
       "      <td>0.275947</td>\n",
       "      <td>5.608026e+03</td>\n",
       "      <td>8337.01385</td>\n",
       "      <td>272.475783</td>\n",
       "    </tr>\n",
       "    <tr>\n",
       "      <th>std</th>\n",
       "      <td>10.436212</td>\n",
       "      <td>0.080364</td>\n",
       "      <td>3.996797</td>\n",
       "      <td>94.480605</td>\n",
       "      <td>66.458275</td>\n",
       "      <td>66.458275</td>\n",
       "      <td>0.551759</td>\n",
       "      <td>7.478497e+03</td>\n",
       "      <td>6245.80058</td>\n",
       "      <td>192.697812</td>\n",
       "    </tr>\n",
       "    <tr>\n",
       "      <th>min</th>\n",
       "      <td>12.000000</td>\n",
       "      <td>0.006530</td>\n",
       "      <td>0.000000</td>\n",
       "      <td>0.000000</td>\n",
       "      <td>0.000000</td>\n",
       "      <td>19.000000</td>\n",
       "      <td>0.000000</td>\n",
       "      <td>0.000000e+00</td>\n",
       "      <td>1000.00000</td>\n",
       "      <td>0.000000</td>\n",
       "    </tr>\n",
       "    <tr>\n",
       "      <th>25%</th>\n",
       "      <td>36.000000</td>\n",
       "      <td>0.156290</td>\n",
       "      <td>1.000000</td>\n",
       "      <td>26.000000</td>\n",
       "      <td>660.000000</td>\n",
       "      <td>679.000000</td>\n",
       "      <td>0.140000</td>\n",
       "      <td>3.200333e+03</td>\n",
       "      <td>4000.00000</td>\n",
       "      <td>131.620000</td>\n",
       "    </tr>\n",
       "    <tr>\n",
       "      <th>50%</th>\n",
       "      <td>36.000000</td>\n",
       "      <td>0.209760</td>\n",
       "      <td>1.000000</td>\n",
       "      <td>67.000000</td>\n",
       "      <td>680.000000</td>\n",
       "      <td>699.000000</td>\n",
       "      <td>0.220000</td>\n",
       "      <td>4.666667e+03</td>\n",
       "      <td>6500.00000</td>\n",
       "      <td>217.740000</td>\n",
       "    </tr>\n",
       "    <tr>\n",
       "      <th>75%</th>\n",
       "      <td>36.000000</td>\n",
       "      <td>0.283810</td>\n",
       "      <td>3.000000</td>\n",
       "      <td>137.000000</td>\n",
       "      <td>720.000000</td>\n",
       "      <td>739.000000</td>\n",
       "      <td>0.320000</td>\n",
       "      <td>6.825000e+03</td>\n",
       "      <td>12000.00000</td>\n",
       "      <td>371.580000</td>\n",
       "    </tr>\n",
       "    <tr>\n",
       "      <th>max</th>\n",
       "      <td>60.000000</td>\n",
       "      <td>0.512290</td>\n",
       "      <td>20.000000</td>\n",
       "      <td>755.000000</td>\n",
       "      <td>880.000000</td>\n",
       "      <td>899.000000</td>\n",
       "      <td>10.010000</td>\n",
       "      <td>1.750003e+06</td>\n",
       "      <td>35000.00000</td>\n",
       "      <td>2251.510000</td>\n",
       "    </tr>\n",
       "  </tbody>\n",
       "</table>\n",
       "</div>"
      ],
      "text/plain": [
       "                Term    BorrowerAPR  ListingCategory (numeric)  \\\n",
       "count  113937.000000  113912.000000              113937.000000   \n",
       "mean       40.830248       0.218828                   2.774209   \n",
       "std        10.436212       0.080364                   3.996797   \n",
       "min        12.000000       0.006530                   0.000000   \n",
       "25%        36.000000       0.156290                   1.000000   \n",
       "50%        36.000000       0.209760                   1.000000   \n",
       "75%        36.000000       0.283810                   3.000000   \n",
       "max        60.000000       0.512290                  20.000000   \n",
       "\n",
       "       EmploymentStatusDuration  CreditScoreRangeLower  CreditScoreRangeUpper  \\\n",
       "count             106312.000000          113346.000000          113346.000000   \n",
       "mean                  96.071582             685.567731             704.567731   \n",
       "std                   94.480605              66.458275              66.458275   \n",
       "min                    0.000000               0.000000              19.000000   \n",
       "25%                   26.000000             660.000000             679.000000   \n",
       "50%                   67.000000             680.000000             699.000000   \n",
       "75%                  137.000000             720.000000             739.000000   \n",
       "max                  755.000000             880.000000             899.000000   \n",
       "\n",
       "       DebtToIncomeRatio  StatedMonthlyIncome  LoanOriginalAmount  \\\n",
       "count      105383.000000         1.139370e+05        113937.00000   \n",
       "mean            0.275947         5.608026e+03          8337.01385   \n",
       "std             0.551759         7.478497e+03          6245.80058   \n",
       "min             0.000000         0.000000e+00          1000.00000   \n",
       "25%             0.140000         3.200333e+03          4000.00000   \n",
       "50%             0.220000         4.666667e+03          6500.00000   \n",
       "75%             0.320000         6.825000e+03         12000.00000   \n",
       "max            10.010000         1.750003e+06         35000.00000   \n",
       "\n",
       "       MonthlyLoanPayment  \n",
       "count       113937.000000  \n",
       "mean           272.475783  \n",
       "std            192.697812  \n",
       "min              0.000000  \n",
       "25%            131.620000  \n",
       "50%            217.740000  \n",
       "75%            371.580000  \n",
       "max           2251.510000  "
      ]
     },
     "execution_count": 9,
     "metadata": {},
     "output_type": "execute_result"
    }
   ],
   "source": [
    "# Assess more information about variables\n",
    "df_clean.describe()"
   ]
  },
  {
   "cell_type": "code",
   "execution_count": 10,
   "metadata": {},
   "outputs": [
    {
     "data": {
      "text/plain": [
       "36    87778\n",
       "60    24545\n",
       "12     1614\n",
       "Name: Term, dtype: int64"
      ]
     },
     "execution_count": 10,
     "metadata": {},
     "output_type": "execute_result"
    }
   ],
   "source": [
    "df_clean.Term.value_counts()"
   ]
  },
  {
   "cell_type": "code",
   "execution_count": 11,
   "metadata": {},
   "outputs": [
    {
     "data": {
      "text/plain": [
       "1     58308\n",
       "0     16965\n",
       "7     10494\n",
       "2      7433\n",
       "3      7189\n",
       "6      2572\n",
       "4      2395\n",
       "13     1996\n",
       "15     1522\n",
       "18      885\n",
       "14      876\n",
       "20      771\n",
       "19      768\n",
       "5       756\n",
       "16      304\n",
       "11      217\n",
       "8       199\n",
       "10       91\n",
       "9        85\n",
       "12       59\n",
       "17       52\n",
       "Name: ListingCategory (numeric), dtype: int64"
      ]
     },
     "execution_count": 11,
     "metadata": {},
     "output_type": "execute_result"
    }
   ],
   "source": [
    "df_clean['ListingCategory (numeric)'].value_counts()"
   ]
  },
  {
   "cell_type": "code",
   "execution_count": 12,
   "metadata": {},
   "outputs": [
    {
     "data": {
      "text/plain": [
       "array(['CO', 'GA', 'MN', 'NM', 'KS', 'CA', 'IL', 'MD', nan, 'AL', 'AZ',\n",
       "       'VA', 'FL', 'PA', 'OR', 'MI', 'NY', 'LA', 'WI', 'OH', 'NC', 'WA',\n",
       "       'NV', 'NJ', 'TX', 'AR', 'SC', 'DE', 'MO', 'NE', 'UT', 'DC', 'MA',\n",
       "       'CT', 'IN', 'KY', 'OK', 'MS', 'WV', 'RI', 'TN', 'ID', 'MT', 'HI',\n",
       "       'NH', 'VT', 'WY', 'ME', 'AK', 'IA', 'SD', 'ND'], dtype=object)"
      ]
     },
     "execution_count": 12,
     "metadata": {},
     "output_type": "execute_result"
    }
   ],
   "source": [
    "df_clean['BorrowerState'].unique()"
   ]
  },
  {
   "cell_type": "code",
   "execution_count": 13,
   "metadata": {},
   "outputs": [
    {
     "data": {
      "text/plain": [
       "array(['Self-employed', 'Employed', 'Not available', 'Full-time', 'Other',\n",
       "       nan, 'Not employed', 'Part-time', 'Retired'], dtype=object)"
      ]
     },
     "execution_count": 13,
     "metadata": {},
     "output_type": "execute_result"
    }
   ],
   "source": [
    "df_clean['EmploymentStatus'].unique()"
   ]
  },
  {
   "cell_type": "code",
   "execution_count": 14,
   "metadata": {},
   "outputs": [
    {
     "data": {
      "text/plain": [
       "True     57478\n",
       "False    56459\n",
       "Name: IsBorrowerHomeowner, dtype: int64"
      ]
     },
     "execution_count": 14,
     "metadata": {},
     "output_type": "execute_result"
    }
   ],
   "source": [
    "df_clean['IsBorrowerHomeowner'].value_counts()"
   ]
  },
  {
   "cell_type": "code",
   "execution_count": 15,
   "metadata": {},
   "outputs": [
    {
     "data": {
      "text/plain": [
       "$25,000-49,999    32192\n",
       "$50,000-74,999    31050\n",
       "$100,000+         17337\n",
       "$75,000-99,999    16916\n",
       "Not displayed      7741\n",
       "$1-24,999          7274\n",
       "Not employed        806\n",
       "$0                  621\n",
       "Name: IncomeRange, dtype: int64"
      ]
     },
     "execution_count": 15,
     "metadata": {},
     "output_type": "execute_result"
    }
   ],
   "source": [
    "df_clean['IncomeRange'].value_counts()"
   ]
  },
  {
   "cell_type": "code",
   "execution_count": 16,
   "metadata": {},
   "outputs": [
    {
     "data": {
      "text/plain": [
       "871"
      ]
     },
     "execution_count": 16,
     "metadata": {},
     "output_type": "execute_result"
    }
   ],
   "source": [
    "sum(df_clean.duplicated())"
   ]
  },
  {
   "cell_type": "markdown",
   "metadata": {},
   "source": [
    "## Cleaning the Data\n",
    "\n",
    "**Quality Issues:**\n",
    "1. Name of the column `ListingCategory (numeric)` includes a space.\n",
    "2. Data type of the `Term` column is integer, not ordinal categorical variable.\n",
    "3. Data type of the `ListingCategory (numeric)` column is integer, not nominal categorical variable.\n",
    "4. The `EmploymentStatus` column includes two categories which may indicate the same status of employment: Not available and NaN.\n",
    "5. There are 871 duplicate rows of data in the df_clean dataframe.\n",
    "6. 11 of the 16 features in the dataframe object df_clean include multiple NaN values.\n",
    "7. Data types for columns `EmploymentStatusDuration`, `CreditScoreRangeLower`, and `CreditScoreRangeUpper` are floats, not integers.\n",
    "8. Values under the `StatedMonthlyIncome` column have more than two digits after the decimal although the column represents a monetary amount.\n",
    "9. Data type of the `LoanOriginalAmount` column, which represents a monetary amount, is an integer, not float. \n",
    "\n",
    "**Tidiness Issue:**\n",
    "1. Range of each borrower's credit score is split into two columns for lower and upper boundaries, instead of a range."
   ]
  },
  {
   "cell_type": "markdown",
   "metadata": {},
   "source": [
    "### Quality Issue 1\n",
    "*The name for column `ListingCategory (numeric)` includes a space.*\n",
    "\n",
    "**Define:** Change the name of the column to `ListingCategory`.\n",
    "\n",
    "**Code**"
   ]
  },
  {
   "cell_type": "code",
   "execution_count": 18,
   "metadata": {},
   "outputs": [],
   "source": [
    "# Change column name\n",
    "df_clean.rename(columns = {'ListingCategory (numeric)': 'ListingCategory'}, inplace=True)"
   ]
  },
  {
   "cell_type": "markdown",
   "metadata": {},
   "source": [
    "**Test**"
   ]
  },
  {
   "cell_type": "code",
   "execution_count": 19,
   "metadata": {},
   "outputs": [
    {
     "data": {
      "text/plain": [
       "Index(['ListingKey', 'Term', 'BorrowerAPR', 'ListingCategory', 'BorrowerState',\n",
       "       'EmploymentStatus', 'EmploymentStatusDuration', 'IsBorrowerHomeowner',\n",
       "       'CreditScoreRangeLower', 'CreditScoreRangeUpper', 'DebtToIncomeRatio',\n",
       "       'IncomeRange', 'StatedMonthlyIncome', 'LoanOriginalAmount',\n",
       "       'MonthlyLoanPayment'],\n",
       "      dtype='object')"
      ]
     },
     "execution_count": 19,
     "metadata": {},
     "output_type": "execute_result"
    }
   ],
   "source": [
    "# Confirm the change in name\n",
    "df_clean.columns"
   ]
  },
  {
   "cell_type": "markdown",
   "metadata": {},
   "source": [
    "### Quality Issue 2\n",
    "*Data type of the `Term` column is integer, not ordinal categorical variable.*\n",
    "\n",
    "**Define:** Convert the data type from integer to ordinal category.\n",
    "\n",
    "**Code**"
   ]
  },
  {
   "cell_type": "code",
   "execution_count": 20,
   "metadata": {},
   "outputs": [],
   "source": [
    "# Ordered list of unique values in Term\n",
    "terms = list(df_clean.Term.unique())\n",
    "terms.sort()\n",
    "\n",
    "# Convert data type to ordinal category\n",
    "loan_terms = pd.api.types.CategoricalDtype(ordered = True, categories = terms)\n",
    "df_clean.Term = df_clean.Term.astype(loan_terms)"
   ]
  },
  {
   "cell_type": "markdown",
   "metadata": {},
   "source": [
    "**Test**"
   ]
  },
  {
   "cell_type": "code",
   "execution_count": 21,
   "metadata": {},
   "outputs": [
    {
     "data": {
      "text/plain": [
       "CategoricalDtype(categories=[12, 36, 60], ordered=True)"
      ]
     },
     "execution_count": 21,
     "metadata": {},
     "output_type": "execute_result"
    }
   ],
   "source": [
    "# Confirm the change in data type\n",
    "df_clean.Term.dtype"
   ]
  },
  {
   "cell_type": "markdown",
   "metadata": {},
   "source": [
    "### Quality Issue 3\n",
    "*Data type of the `ListingCategory` column is integer, not nominal categorical variable.*\n",
    "\n",
    "**Define:** Convert the data type from integer to nominal category.\n",
    "\n",
    "**Code**"
   ]
  },
  {
   "cell_type": "code",
   "execution_count": 22,
   "metadata": {},
   "outputs": [],
   "source": [
    "# Ordered list of unique values in ListingCategory\n",
    "categories = list(df_clean.ListingCategory.unique())\n",
    "categories.sort()\n",
    "\n",
    "# Convert data type to nominal category\n",
    "list_categories = pd.api.types.CategoricalDtype(categories = categories)\n",
    "df_clean.ListingCategory = df_clean.ListingCategory.astype(list_categories)"
   ]
  },
  {
   "cell_type": "markdown",
   "metadata": {},
   "source": [
    "**Test**"
   ]
  },
  {
   "cell_type": "code",
   "execution_count": 23,
   "metadata": {},
   "outputs": [
    {
     "data": {
      "text/plain": [
       "CategoricalDtype(categories=[0, 1, 2, 3, 4, 5, 6, 7, 8, 9, 10, 11, 12, 13, 14, 15, 16, 17,\n",
       "                  18, 19, 20],\n",
       "                 ordered=False)"
      ]
     },
     "execution_count": 23,
     "metadata": {},
     "output_type": "execute_result"
    }
   ],
   "source": [
    "# Confirm the change in data type\n",
    "df_clean.ListingCategory.dtype"
   ]
  },
  {
   "cell_type": "markdown",
   "metadata": {},
   "source": [
    "### Quality Issue 4\n",
    "*The `EmploymentStatus` column includes two categories which may indicate the same status of employment: Not available and NaN.*\n",
    "\n",
    "**Define:** Change all 'Not Available' to NaN.\n",
    "\n",
    "**Code**"
   ]
  },
  {
   "cell_type": "code",
   "execution_count": 24,
   "metadata": {},
   "outputs": [
    {
     "name": "stdout",
     "output_type": "stream",
     "text": [
      "5347\n",
      "2255\n"
     ]
    }
   ],
   "source": [
    "# Total number of instances of 'Not available' for EmploymentStatus\n",
    "count_status_before = df_clean.query('EmploymentStatus == \"Not available\"').shape[0]\n",
    "count_nan_before = df_clean.EmploymentStatus.isna().sum()\n",
    "\n",
    "print(count_status_before)\n",
    "print(count_nan_before)"
   ]
  },
  {
   "cell_type": "code",
   "execution_count": 25,
   "metadata": {},
   "outputs": [],
   "source": [
    "# Replace 'Not available' with NaN\n",
    "df_clean.EmploymentStatus.replace(to_replace = 'Not available', value = np.nan, inplace = True)"
   ]
  },
  {
   "cell_type": "markdown",
   "metadata": {},
   "source": [
    "**Test**"
   ]
  },
  {
   "cell_type": "code",
   "execution_count": 26,
   "metadata": {},
   "outputs": [
    {
     "name": "stdout",
     "output_type": "stream",
     "text": [
      "5347\n",
      "0\n",
      "5347\n"
     ]
    }
   ],
   "source": [
    "# Verify all 'Not available' are replaced with NaN\n",
    "count_status_after = df_clean.query('EmploymentStatus == \"Not available\"').shape[0]\n",
    "count_nan_replaced = df_clean.EmploymentStatus.isna().sum() - count_nan_before\n",
    "\n",
    "print(count_status_before)\n",
    "print(count_status_after)\n",
    "print(count_nan_replaced)"
   ]
  },
  {
   "cell_type": "markdown",
   "metadata": {},
   "source": [
    "### Quality Issue 5\n",
    "*There are 871 duplicate rows of data in the df_clean dataframe.*\n",
    "\n",
    "**Define:** Remove all duplicated rows from the dataframe.\n",
    "\n",
    "**Code**"
   ]
  },
  {
   "cell_type": "code",
   "execution_count": 27,
   "metadata": {},
   "outputs": [],
   "source": [
    "# Remove all duplicate rows\n",
    "df_clean.drop_duplicates(inplace=True)"
   ]
  },
  {
   "cell_type": "markdown",
   "metadata": {},
   "source": [
    "**Test**"
   ]
  },
  {
   "cell_type": "code",
   "execution_count": 28,
   "metadata": {},
   "outputs": [
    {
     "data": {
      "text/plain": [
       "0"
      ]
     },
     "execution_count": 28,
     "metadata": {},
     "output_type": "execute_result"
    }
   ],
   "source": [
    "# Confirm there are no duplicate rows\n",
    "df_clean.duplicated().sum()"
   ]
  },
  {
   "cell_type": "markdown",
   "metadata": {},
   "source": [
    "### Quality Issue 6\n",
    "*11 of the 16 features in the dataframe object df_clean include multiple NaN values.*\n",
    "\n",
    "**Define:** Remove the rows that include at least one NaN.\n",
    "\n",
    "**Code**"
   ]
  },
  {
   "cell_type": "code",
   "execution_count": 29,
   "metadata": {},
   "outputs": [],
   "source": [
    "# Drop all rows with NaN\n",
    "df_clean.dropna(inplace=True)"
   ]
  },
  {
   "cell_type": "markdown",
   "metadata": {},
   "source": [
    "**Test**"
   ]
  },
  {
   "cell_type": "code",
   "execution_count": 30,
   "metadata": {},
   "outputs": [
    {
     "data": {
      "text/plain": [
       "ListingKey                  0\n",
       "Term                        0\n",
       "BorrowerAPR                 0\n",
       "ListingCategory             0\n",
       "BorrowerState               0\n",
       "EmploymentStatus            0\n",
       "EmploymentStatusDuration    0\n",
       "IsBorrowerHomeowner         0\n",
       "CreditScoreRangeLower       0\n",
       "CreditScoreRangeUpper       0\n",
       "DebtToIncomeRatio           0\n",
       "IncomeRange                 0\n",
       "StatedMonthlyIncome         0\n",
       "LoanOriginalAmount          0\n",
       "MonthlyLoanPayment          0\n",
       "dtype: int64"
      ]
     },
     "execution_count": 30,
     "metadata": {},
     "output_type": "execute_result"
    }
   ],
   "source": [
    "# Confirm all rows have non-NaN values\n",
    "df_clean.isnull().sum()"
   ]
  },
  {
   "cell_type": "code",
   "execution_count": 31,
   "metadata": {},
   "outputs": [],
   "source": [
    "# Reset index to have indices increase from 0 by 1\n",
    "df_clean.reset_index(drop=True, inplace=True)"
   ]
  },
  {
   "cell_type": "markdown",
   "metadata": {},
   "source": [
    "### Quality Issue 7\n",
    "*Data types for columns `EmploymentStatusDuration`, `CreditScoreRangeLower`, and `CreditScoreRangeUpper` are floats, not integers.*\n",
    "\n",
    "**Define:** Convert the data types from floats to integers.\n",
    "\n",
    "**Code & Test**"
   ]
  },
  {
   "cell_type": "code",
   "execution_count": 32,
   "metadata": {},
   "outputs": [
    {
     "name": "stdout",
     "output_type": "stream",
     "text": [
      "EmploymentStatusDuration int32\n",
      "CreditScoreRangeLower int32\n",
      "CreditScoreRangeUpper int32\n"
     ]
    }
   ],
   "source": [
    "# List of the columns that need to be converted \n",
    "column_list = ['EmploymentStatusDuration', 'CreditScoreRangeLower', 'CreditScoreRangeUpper']\n",
    "\n",
    "# Change the data type from float to integer\n",
    "for column in column_list:\n",
    "    df_clean[column] = df_clean[column].astype(dtype = 'int')\n",
    "    \n",
    "    # Confirm that the change in data type\n",
    "    print(column, df_clean[column].dtype)"
   ]
  },
  {
   "cell_type": "markdown",
   "metadata": {},
   "source": [
    "### Quality Issue 8\n",
    "*Values under the `StatedMonthlyIncome` column have more than two digits after the decimal although the column represents a monetary amount.*\n",
    "\n",
    "**Define:** Round the values in the `StatedMonthlyIncome` column to two decimal places.\n",
    "\n",
    "**Code**"
   ]
  },
  {
   "cell_type": "code",
   "execution_count": 33,
   "metadata": {},
   "outputs": [],
   "source": [
    "# Round floats to two decimal places\n",
    "df_clean.StatedMonthlyIncome = df_clean.StatedMonthlyIncome.round(decimals = 2)"
   ]
  },
  {
   "cell_type": "markdown",
   "metadata": {},
   "source": [
    "**Test**"
   ]
  },
  {
   "cell_type": "code",
   "execution_count": 34,
   "metadata": {},
   "outputs": [
    {
     "data": {
      "text/plain": [
       "2571      4987.00\n",
       "82615     3666.67\n",
       "48137     8333.33\n",
       "46033     6250.00\n",
       "17471     3750.00\n",
       "82844     4000.00\n",
       "40448     2500.00\n",
       "63571     1315.00\n",
       "54200    16416.67\n",
       "4330      5166.67\n",
       "Name: StatedMonthlyIncome, dtype: float64"
      ]
     },
     "execution_count": 34,
     "metadata": {},
     "output_type": "execute_result"
    }
   ],
   "source": [
    "# Confirm dollar amounts are rounded to two decimal places with a sample\n",
    "df_clean.StatedMonthlyIncome.sample(10)"
   ]
  },
  {
   "cell_type": "markdown",
   "metadata": {},
   "source": [
    "### Quality Issue 9\n",
    "*Data type of the `LoanOriginalAmount` column, which represents a monetary amount, is an integer, not float.*\n",
    "\n",
    "**Define:** Convert data type from integer to float.\n",
    "\n",
    "**Code**"
   ]
  },
  {
   "cell_type": "code",
   "execution_count": 35,
   "metadata": {},
   "outputs": [],
   "source": [
    "# Convert data type to float\n",
    "df_clean.LoanOriginalAmount = df_clean.LoanOriginalAmount.astype(dtype = 'float')"
   ]
  },
  {
   "cell_type": "markdown",
   "metadata": {},
   "source": [
    "**Test**"
   ]
  },
  {
   "cell_type": "code",
   "execution_count": 36,
   "metadata": {},
   "outputs": [
    {
     "data": {
      "text/plain": [
       "dtype('float64')"
      ]
     },
     "execution_count": 36,
     "metadata": {},
     "output_type": "execute_result"
    }
   ],
   "source": [
    "# Confirm data type has changed\n",
    "df_clean.LoanOriginalAmount.dtype"
   ]
  },
  {
   "cell_type": "markdown",
   "metadata": {},
   "source": [
    "### Tidiness Issue 1\n",
    "*Range of each borrower's credit score is split into two columns for lower and upper boundaries, instead of a range.*\n",
    "\n",
    "**Define:** \n",
    "* Create a new column `CreditScoreRange` from existing columns.  \n",
    "* Change the data type in `CreditScoreRange` to ordinal categories.\n",
    "* Drop the two columns `CreditScoreRangeLower` and `CreditScoreRangeUpper`.\n",
    "\n",
    "**Code**"
   ]
  },
  {
   "cell_type": "code",
   "execution_count": 37,
   "metadata": {},
   "outputs": [],
   "source": [
    "columns = ['CreditScoreRangeLower', 'CreditScoreRangeUpper']\n",
    "\n",
    "# Convert data types of existing columns from integer to string for join operation\n",
    "for column in columns:\n",
    "    df_clean[column] = df_clean[column].astype(dtype = 'str')\n",
    "\n",
    "# Join the two boundaries with -\n",
    "df_clean['CreditScoreRange'] = df_clean[columns].apply(lambda x: '-'.join(x), axis=1)\n",
    "\n",
    "# Ordered list of unique values in CreditScoreRange\n",
    "ranges = list(df_clean.CreditScoreRange.unique())\n",
    "ranges.sort()\n",
    "\n",
    "# Convert data type to ordinal category\n",
    "creditscore_ranges = pd.api.types.CategoricalDtype(ordered=True, categories = ranges)\n",
    "df_clean.CreditScoreRange = df_clean.CreditScoreRange.astype(creditscore_ranges)\n",
    "\n",
    "# Drop CreditScoreRangeLower and CreditScoreRangeUpper columns\n",
    "df_clean.drop(columns = columns, inplace=True)"
   ]
  },
  {
   "cell_type": "markdown",
   "metadata": {},
   "source": [
    "**Test**"
   ]
  },
  {
   "cell_type": "code",
   "execution_count": 38,
   "metadata": {},
   "outputs": [
    {
     "data": {
      "text/plain": [
       "Index(['ListingKey', 'Term', 'BorrowerAPR', 'ListingCategory', 'BorrowerState',\n",
       "       'EmploymentStatus', 'EmploymentStatusDuration', 'IsBorrowerHomeowner',\n",
       "       'DebtToIncomeRatio', 'IncomeRange', 'StatedMonthlyIncome',\n",
       "       'LoanOriginalAmount', 'MonthlyLoanPayment', 'CreditScoreRange'],\n",
       "      dtype='object')"
      ]
     },
     "execution_count": 38,
     "metadata": {},
     "output_type": "execute_result"
    }
   ],
   "source": [
    "# Confirm the changes in columns\n",
    "df_clean.columns"
   ]
  },
  {
   "cell_type": "code",
   "execution_count": 39,
   "metadata": {},
   "outputs": [
    {
     "data": {
      "text/plain": [
       "CategoricalDtype(categories=['520-539', '540-559', '560-579', '580-599', '600-619',\n",
       "                  '620-639', '640-659', '660-679', '680-699', '700-719',\n",
       "                  '720-739', '740-759', '760-779', '780-799', '800-819',\n",
       "                  '820-839', '840-859', '860-879', '880-899'],\n",
       "                 ordered=True)"
      ]
     },
     "execution_count": 39,
     "metadata": {},
     "output_type": "execute_result"
    }
   ],
   "source": [
    "# Verify data type for the ranges\n",
    "df_clean.CreditScoreRange.dtype"
   ]
  },
  {
   "cell_type": "markdown",
   "metadata": {},
   "source": [
    "## Univariate Exploration\n",
    "\n",
    "I will start by looking at the information regarding the number of loans in each term category (i.e., 12 month, 36 month, and 60 month term loans as described in the "
   ]
  },
  {
   "cell_type": "code",
   "execution_count": null,
   "metadata": {},
   "outputs": [],
   "source": []
  },
  {
   "cell_type": "markdown",
   "metadata": {},
   "source": [
    "### References\n",
    "* https://github.com/jmlcode/p4-prosper-loan-data-visualization"
   ]
  }
 ],
 "metadata": {
  "kernelspec": {
   "display_name": "Python 3",
   "language": "python",
   "name": "python3"
  },
  "language_info": {
   "codemirror_mode": {
    "name": "ipython",
    "version": 3
   },
   "file_extension": ".py",
   "mimetype": "text/x-python",
   "name": "python",
   "nbconvert_exporter": "python",
   "pygments_lexer": "ipython3",
   "version": "3.7.6"
  }
 },
 "nbformat": 4,
 "nbformat_minor": 4
}
