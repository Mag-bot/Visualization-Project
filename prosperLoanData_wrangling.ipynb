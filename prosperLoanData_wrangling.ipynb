{
 "cells": [
  {
   "cell_type": "markdown",
   "metadata": {},
   "source": [
    "# Prosper Loan Data Wrangling\n",
    "\n",
    "### by Magon Bowling\n",
    "\n",
    "## Preliminary Wrangling\n",
    "The Prosper Loan Data was made available for download by Udacity in the course resources.  The file was manually downloaded and then uploaded to Jupyter Notebook for wrangling and analysis.  The dataset contains information regarding over 100,000 loans."
   ]
  },
  {
   "cell_type": "code",
   "execution_count": 2,
   "metadata": {},
   "outputs": [],
   "source": [
    "# Import all packages\n",
    "import numpy as np\n",
    "import pandas as pd\n",
    "import matplotlib.pyplot as plt\n",
    "import seaborn as sb\n",
    "\n",
    "%matplotlib inline"
   ]
  },
  {
   "cell_type": "code",
   "execution_count": 3,
   "metadata": {},
   "outputs": [],
   "source": [
    "# Load the .csv file containing the prosper loan data\n",
    "df = pd.read_csv('prosperLoanData.csv')"
   ]
  },
  {
   "cell_type": "code",
   "execution_count": 4,
   "metadata": {},
   "outputs": [
    {
     "data": {
      "text/plain": [
       "(113937, 81)"
      ]
     },
     "execution_count": 4,
     "metadata": {},
     "output_type": "execute_result"
    }
   ],
   "source": [
    "# Get an overview of the dataset and structure\n",
    "df.shape"
   ]
  },
  {
   "cell_type": "code",
   "execution_count": 5,
   "metadata": {},
   "outputs": [
    {
     "data": {
      "text/html": [
       "<div>\n",
       "<style scoped>\n",
       "    .dataframe tbody tr th:only-of-type {\n",
       "        vertical-align: middle;\n",
       "    }\n",
       "\n",
       "    .dataframe tbody tr th {\n",
       "        vertical-align: top;\n",
       "    }\n",
       "\n",
       "    .dataframe thead th {\n",
       "        text-align: right;\n",
       "    }\n",
       "</style>\n",
       "<table border=\"1\" class=\"dataframe\">\n",
       "  <thead>\n",
       "    <tr style=\"text-align: right;\">\n",
       "      <th></th>\n",
       "      <th>ListingKey</th>\n",
       "      <th>ListingNumber</th>\n",
       "      <th>ListingCreationDate</th>\n",
       "      <th>CreditGrade</th>\n",
       "      <th>Term</th>\n",
       "      <th>LoanStatus</th>\n",
       "      <th>ClosedDate</th>\n",
       "      <th>BorrowerAPR</th>\n",
       "      <th>BorrowerRate</th>\n",
       "      <th>LenderYield</th>\n",
       "      <th>...</th>\n",
       "      <th>LP_ServiceFees</th>\n",
       "      <th>LP_CollectionFees</th>\n",
       "      <th>LP_GrossPrincipalLoss</th>\n",
       "      <th>LP_NetPrincipalLoss</th>\n",
       "      <th>LP_NonPrincipalRecoverypayments</th>\n",
       "      <th>PercentFunded</th>\n",
       "      <th>Recommendations</th>\n",
       "      <th>InvestmentFromFriendsCount</th>\n",
       "      <th>InvestmentFromFriendsAmount</th>\n",
       "      <th>Investors</th>\n",
       "    </tr>\n",
       "  </thead>\n",
       "  <tbody>\n",
       "    <tr>\n",
       "      <th>0</th>\n",
       "      <td>1021339766868145413AB3B</td>\n",
       "      <td>193129</td>\n",
       "      <td>2007-08-26 19:09:29.263000000</td>\n",
       "      <td>C</td>\n",
       "      <td>36</td>\n",
       "      <td>Completed</td>\n",
       "      <td>2009-08-14 00:00:00</td>\n",
       "      <td>0.16516</td>\n",
       "      <td>0.1580</td>\n",
       "      <td>0.1380</td>\n",
       "      <td>...</td>\n",
       "      <td>-133.18</td>\n",
       "      <td>0.0</td>\n",
       "      <td>0.0</td>\n",
       "      <td>0.0</td>\n",
       "      <td>0.0</td>\n",
       "      <td>1.0</td>\n",
       "      <td>0</td>\n",
       "      <td>0</td>\n",
       "      <td>0.0</td>\n",
       "      <td>258</td>\n",
       "    </tr>\n",
       "    <tr>\n",
       "      <th>1</th>\n",
       "      <td>10273602499503308B223C1</td>\n",
       "      <td>1209647</td>\n",
       "      <td>2014-02-27 08:28:07.900000000</td>\n",
       "      <td>NaN</td>\n",
       "      <td>36</td>\n",
       "      <td>Current</td>\n",
       "      <td>NaN</td>\n",
       "      <td>0.12016</td>\n",
       "      <td>0.0920</td>\n",
       "      <td>0.0820</td>\n",
       "      <td>...</td>\n",
       "      <td>0.00</td>\n",
       "      <td>0.0</td>\n",
       "      <td>0.0</td>\n",
       "      <td>0.0</td>\n",
       "      <td>0.0</td>\n",
       "      <td>1.0</td>\n",
       "      <td>0</td>\n",
       "      <td>0</td>\n",
       "      <td>0.0</td>\n",
       "      <td>1</td>\n",
       "    </tr>\n",
       "    <tr>\n",
       "      <th>2</th>\n",
       "      <td>0EE9337825851032864889A</td>\n",
       "      <td>81716</td>\n",
       "      <td>2007-01-05 15:00:47.090000000</td>\n",
       "      <td>HR</td>\n",
       "      <td>36</td>\n",
       "      <td>Completed</td>\n",
       "      <td>2009-12-17 00:00:00</td>\n",
       "      <td>0.28269</td>\n",
       "      <td>0.2750</td>\n",
       "      <td>0.2400</td>\n",
       "      <td>...</td>\n",
       "      <td>-24.20</td>\n",
       "      <td>0.0</td>\n",
       "      <td>0.0</td>\n",
       "      <td>0.0</td>\n",
       "      <td>0.0</td>\n",
       "      <td>1.0</td>\n",
       "      <td>0</td>\n",
       "      <td>0</td>\n",
       "      <td>0.0</td>\n",
       "      <td>41</td>\n",
       "    </tr>\n",
       "    <tr>\n",
       "      <th>3</th>\n",
       "      <td>0EF5356002482715299901A</td>\n",
       "      <td>658116</td>\n",
       "      <td>2012-10-22 11:02:35.010000000</td>\n",
       "      <td>NaN</td>\n",
       "      <td>36</td>\n",
       "      <td>Current</td>\n",
       "      <td>NaN</td>\n",
       "      <td>0.12528</td>\n",
       "      <td>0.0974</td>\n",
       "      <td>0.0874</td>\n",
       "      <td>...</td>\n",
       "      <td>-108.01</td>\n",
       "      <td>0.0</td>\n",
       "      <td>0.0</td>\n",
       "      <td>0.0</td>\n",
       "      <td>0.0</td>\n",
       "      <td>1.0</td>\n",
       "      <td>0</td>\n",
       "      <td>0</td>\n",
       "      <td>0.0</td>\n",
       "      <td>158</td>\n",
       "    </tr>\n",
       "    <tr>\n",
       "      <th>4</th>\n",
       "      <td>0F023589499656230C5E3E2</td>\n",
       "      <td>909464</td>\n",
       "      <td>2013-09-14 18:38:39.097000000</td>\n",
       "      <td>NaN</td>\n",
       "      <td>36</td>\n",
       "      <td>Current</td>\n",
       "      <td>NaN</td>\n",
       "      <td>0.24614</td>\n",
       "      <td>0.2085</td>\n",
       "      <td>0.1985</td>\n",
       "      <td>...</td>\n",
       "      <td>-60.27</td>\n",
       "      <td>0.0</td>\n",
       "      <td>0.0</td>\n",
       "      <td>0.0</td>\n",
       "      <td>0.0</td>\n",
       "      <td>1.0</td>\n",
       "      <td>0</td>\n",
       "      <td>0</td>\n",
       "      <td>0.0</td>\n",
       "      <td>20</td>\n",
       "    </tr>\n",
       "  </tbody>\n",
       "</table>\n",
       "<p>5 rows × 81 columns</p>\n",
       "</div>"
      ],
      "text/plain": [
       "                ListingKey  ListingNumber            ListingCreationDate  \\\n",
       "0  1021339766868145413AB3B         193129  2007-08-26 19:09:29.263000000   \n",
       "1  10273602499503308B223C1        1209647  2014-02-27 08:28:07.900000000   \n",
       "2  0EE9337825851032864889A          81716  2007-01-05 15:00:47.090000000   \n",
       "3  0EF5356002482715299901A         658116  2012-10-22 11:02:35.010000000   \n",
       "4  0F023589499656230C5E3E2         909464  2013-09-14 18:38:39.097000000   \n",
       "\n",
       "  CreditGrade  Term LoanStatus           ClosedDate  BorrowerAPR  \\\n",
       "0           C    36  Completed  2009-08-14 00:00:00      0.16516   \n",
       "1         NaN    36    Current                  NaN      0.12016   \n",
       "2          HR    36  Completed  2009-12-17 00:00:00      0.28269   \n",
       "3         NaN    36    Current                  NaN      0.12528   \n",
       "4         NaN    36    Current                  NaN      0.24614   \n",
       "\n",
       "   BorrowerRate  LenderYield  ...  LP_ServiceFees  LP_CollectionFees  \\\n",
       "0        0.1580       0.1380  ...         -133.18                0.0   \n",
       "1        0.0920       0.0820  ...            0.00                0.0   \n",
       "2        0.2750       0.2400  ...          -24.20                0.0   \n",
       "3        0.0974       0.0874  ...         -108.01                0.0   \n",
       "4        0.2085       0.1985  ...          -60.27                0.0   \n",
       "\n",
       "   LP_GrossPrincipalLoss  LP_NetPrincipalLoss LP_NonPrincipalRecoverypayments  \\\n",
       "0                    0.0                  0.0                             0.0   \n",
       "1                    0.0                  0.0                             0.0   \n",
       "2                    0.0                  0.0                             0.0   \n",
       "3                    0.0                  0.0                             0.0   \n",
       "4                    0.0                  0.0                             0.0   \n",
       "\n",
       "   PercentFunded  Recommendations InvestmentFromFriendsCount  \\\n",
       "0            1.0                0                          0   \n",
       "1            1.0                0                          0   \n",
       "2            1.0                0                          0   \n",
       "3            1.0                0                          0   \n",
       "4            1.0                0                          0   \n",
       "\n",
       "  InvestmentFromFriendsAmount Investors  \n",
       "0                         0.0       258  \n",
       "1                         0.0         1  \n",
       "2                         0.0        41  \n",
       "3                         0.0       158  \n",
       "4                         0.0        20  \n",
       "\n",
       "[5 rows x 81 columns]"
      ]
     },
     "execution_count": 5,
     "metadata": {},
     "output_type": "execute_result"
    }
   ],
   "source": [
    "# First five rows of the dataset\n",
    "df.head()"
   ]
  },
  {
   "cell_type": "markdown",
   "metadata": {},
   "source": [
    "### What is the structure of the dataset?\n",
    "\n",
    "The loan dataset contains 113,937 rows and 81 variable columns.  The loan information provides rates, status, term length, number of lenders and more.  We will explore all the necessary information in the dataset by assessing the data, cleaning the data for visualization, and then creating appropriate visuals to illustration the information gathered.  "
   ]
  },
  {
   "cell_type": "code",
   "execution_count": 6,
   "metadata": {},
   "outputs": [
    {
     "name": "stdout",
     "output_type": "stream",
     "text": [
      "<class 'pandas.core.frame.DataFrame'>\n",
      "RangeIndex: 113937 entries, 0 to 113936\n",
      "Data columns (total 81 columns):\n",
      " #   Column                               Non-Null Count   Dtype  \n",
      "---  ------                               --------------   -----  \n",
      " 0   ListingKey                           113937 non-null  object \n",
      " 1   ListingNumber                        113937 non-null  int64  \n",
      " 2   ListingCreationDate                  113937 non-null  object \n",
      " 3   CreditGrade                          28953 non-null   object \n",
      " 4   Term                                 113937 non-null  int64  \n",
      " 5   LoanStatus                           113937 non-null  object \n",
      " 6   ClosedDate                           55089 non-null   object \n",
      " 7   BorrowerAPR                          113912 non-null  float64\n",
      " 8   BorrowerRate                         113937 non-null  float64\n",
      " 9   LenderYield                          113937 non-null  float64\n",
      " 10  EstimatedEffectiveYield              84853 non-null   float64\n",
      " 11  EstimatedLoss                        84853 non-null   float64\n",
      " 12  EstimatedReturn                      84853 non-null   float64\n",
      " 13  ProsperRating (numeric)              84853 non-null   float64\n",
      " 14  ProsperRating (Alpha)                84853 non-null   object \n",
      " 15  ProsperScore                         84853 non-null   float64\n",
      " 16  ListingCategory (numeric)            113937 non-null  int64  \n",
      " 17  BorrowerState                        108422 non-null  object \n",
      " 18  Occupation                           110349 non-null  object \n",
      " 19  EmploymentStatus                     111682 non-null  object \n",
      " 20  EmploymentStatusDuration             106312 non-null  float64\n",
      " 21  IsBorrowerHomeowner                  113937 non-null  bool   \n",
      " 22  CurrentlyInGroup                     113937 non-null  bool   \n",
      " 23  GroupKey                             13341 non-null   object \n",
      " 24  DateCreditPulled                     113937 non-null  object \n",
      " 25  CreditScoreRangeLower                113346 non-null  float64\n",
      " 26  CreditScoreRangeUpper                113346 non-null  float64\n",
      " 27  FirstRecordedCreditLine              113240 non-null  object \n",
      " 28  CurrentCreditLines                   106333 non-null  float64\n",
      " 29  OpenCreditLines                      106333 non-null  float64\n",
      " 30  TotalCreditLinespast7years           113240 non-null  float64\n",
      " 31  OpenRevolvingAccounts                113937 non-null  int64  \n",
      " 32  OpenRevolvingMonthlyPayment          113937 non-null  float64\n",
      " 33  InquiriesLast6Months                 113240 non-null  float64\n",
      " 34  TotalInquiries                       112778 non-null  float64\n",
      " 35  CurrentDelinquencies                 113240 non-null  float64\n",
      " 36  AmountDelinquent                     106315 non-null  float64\n",
      " 37  DelinquenciesLast7Years              112947 non-null  float64\n",
      " 38  PublicRecordsLast10Years             113240 non-null  float64\n",
      " 39  PublicRecordsLast12Months            106333 non-null  float64\n",
      " 40  RevolvingCreditBalance               106333 non-null  float64\n",
      " 41  BankcardUtilization                  106333 non-null  float64\n",
      " 42  AvailableBankcardCredit              106393 non-null  float64\n",
      " 43  TotalTrades                          106393 non-null  float64\n",
      " 44  TradesNeverDelinquent (percentage)   106393 non-null  float64\n",
      " 45  TradesOpenedLast6Months              106393 non-null  float64\n",
      " 46  DebtToIncomeRatio                    105383 non-null  float64\n",
      " 47  IncomeRange                          113937 non-null  object \n",
      " 48  IncomeVerifiable                     113937 non-null  bool   \n",
      " 49  StatedMonthlyIncome                  113937 non-null  float64\n",
      " 50  LoanKey                              113937 non-null  object \n",
      " 51  TotalProsperLoans                    22085 non-null   float64\n",
      " 52  TotalProsperPaymentsBilled           22085 non-null   float64\n",
      " 53  OnTimeProsperPayments                22085 non-null   float64\n",
      " 54  ProsperPaymentsLessThanOneMonthLate  22085 non-null   float64\n",
      " 55  ProsperPaymentsOneMonthPlusLate      22085 non-null   float64\n",
      " 56  ProsperPrincipalBorrowed             22085 non-null   float64\n",
      " 57  ProsperPrincipalOutstanding          22085 non-null   float64\n",
      " 58  ScorexChangeAtTimeOfListing          18928 non-null   float64\n",
      " 59  LoanCurrentDaysDelinquent            113937 non-null  int64  \n",
      " 60  LoanFirstDefaultedCycleNumber        16952 non-null   float64\n",
      " 61  LoanMonthsSinceOrigination           113937 non-null  int64  \n",
      " 62  LoanNumber                           113937 non-null  int64  \n",
      " 63  LoanOriginalAmount                   113937 non-null  int64  \n",
      " 64  LoanOriginationDate                  113937 non-null  object \n",
      " 65  LoanOriginationQuarter               113937 non-null  object \n",
      " 66  MemberKey                            113937 non-null  object \n",
      " 67  MonthlyLoanPayment                   113937 non-null  float64\n",
      " 68  LP_CustomerPayments                  113937 non-null  float64\n",
      " 69  LP_CustomerPrincipalPayments         113937 non-null  float64\n",
      " 70  LP_InterestandFees                   113937 non-null  float64\n",
      " 71  LP_ServiceFees                       113937 non-null  float64\n",
      " 72  LP_CollectionFees                    113937 non-null  float64\n",
      " 73  LP_GrossPrincipalLoss                113937 non-null  float64\n",
      " 74  LP_NetPrincipalLoss                  113937 non-null  float64\n",
      " 75  LP_NonPrincipalRecoverypayments      113937 non-null  float64\n",
      " 76  PercentFunded                        113937 non-null  float64\n",
      " 77  Recommendations                      113937 non-null  int64  \n",
      " 78  InvestmentFromFriendsCount           113937 non-null  int64  \n",
      " 79  InvestmentFromFriendsAmount          113937 non-null  float64\n",
      " 80  Investors                            113937 non-null  int64  \n",
      "dtypes: bool(3), float64(50), int64(11), object(17)\n",
      "memory usage: 68.1+ MB\n"
     ]
    }
   ],
   "source": [
    "# Summary of the dataset information\n",
    "df.info()"
   ]
  },
  {
   "cell_type": "markdown",
   "metadata": {},
   "source": [
    "### What are the main features of interest in your dataset?\n",
    "\n",
    "I am interested in the income of individuals with loans and how they are able to handle their loan payments.  I want to explore logistics of a loan that affect the amount disbursed.  I will explore the following 13 variables and look for reasons as to why loans are issued to individuals with specific incomes.  Maybe I can understand how individuals are able to handle loans based on their income and living demographics.  I will create a copy of the dataframe for use in my exploration. \n",
    "\n",
    "* Term\n",
    "* ListingCategory\n",
    "* BorrowerState\n",
    "* EmploymentStatus\n",
    "* EmploymentStatusDuration\n",
    "* IsBorrowerHomeowner\n",
    "* CreditScoreReportLower\n",
    "* CreditScoreReportUpper\n",
    "* DebtToIncomeRatio\n",
    "* IncomeRange\n",
    "* StatedMonthlyIncome\n",
    "* LoanOriginalAmount\n",
    "* MonthlyLoanPayment"
   ]
  },
  {
   "cell_type": "markdown",
   "metadata": {},
   "source": [
    "### What features in the dataset do you think will help support your investigation into your features of interest?\n",
    "\n",
    "I believe that a look at the value counts for term, listing category, borrower state, employment status, credit score range, and income range will give me a good sense as to who is deserving of such loans.  I will explore relationships such as: loan amounts to debt ratio, income range to credit score range, credit score range to loan amounts, debt ratio to monthly loan payments, and loan amounts to listing category.  I suspect that those with higher credit scores, higher incomes, and longer employment status will have the best debt to income ratio.  "
   ]
  },
  {
   "cell_type": "markdown",
   "metadata": {},
   "source": [
    "## Assessing the Data\n",
    "\n",
    "To begin the wrangling process, I will make a copy of the dataframe that will include the 15 columns listed above.  Next I will check for quality and tidiness issues to better prepare for visualization and analysis.  After I clean the data, I will explore the data through visualizations and explain the findings within those visualizations.  Let's get started!"
   ]
  },
  {
   "cell_type": "code",
   "execution_count": 7,
   "metadata": {},
   "outputs": [],
   "source": [
    "# Create a sub-dataset from Prosper loan data which contains only the 15 stated variables\n",
    "df_clean = df.copy()\n",
    "df_clean = df_clean.iloc[:, np.r_[4, 16, 17, 19, 20, 21, 25, 26, 46, 47, 49, 63, 67]]"
   ]
  },
  {
   "cell_type": "code",
   "execution_count": 8,
   "metadata": {},
   "outputs": [
    {
     "name": "stdout",
     "output_type": "stream",
     "text": [
      "<class 'pandas.core.frame.DataFrame'>\n",
      "RangeIndex: 113937 entries, 0 to 113936\n",
      "Data columns (total 13 columns):\n",
      " #   Column                     Non-Null Count   Dtype  \n",
      "---  ------                     --------------   -----  \n",
      " 0   Term                       113937 non-null  int64  \n",
      " 1   ListingCategory (numeric)  113937 non-null  int64  \n",
      " 2   BorrowerState              108422 non-null  object \n",
      " 3   EmploymentStatus           111682 non-null  object \n",
      " 4   EmploymentStatusDuration   106312 non-null  float64\n",
      " 5   IsBorrowerHomeowner        113937 non-null  bool   \n",
      " 6   CreditScoreRangeLower      113346 non-null  float64\n",
      " 7   CreditScoreRangeUpper      113346 non-null  float64\n",
      " 8   DebtToIncomeRatio          105383 non-null  float64\n",
      " 9   IncomeRange                113937 non-null  object \n",
      " 10  StatedMonthlyIncome        113937 non-null  float64\n",
      " 11  LoanOriginalAmount         113937 non-null  int64  \n",
      " 12  MonthlyLoanPayment         113937 non-null  float64\n",
      "dtypes: bool(1), float64(6), int64(3), object(3)\n",
      "memory usage: 10.5+ MB\n"
     ]
    }
   ],
   "source": [
    "# View summary of sub-dataset\n",
    "df_clean.info()"
   ]
  },
  {
   "cell_type": "code",
   "execution_count": 9,
   "metadata": {},
   "outputs": [
    {
     "data": {
      "text/plain": [
       "Term                             3\n",
       "ListingCategory (numeric)       21\n",
       "BorrowerState                   51\n",
       "EmploymentStatus                 8\n",
       "EmploymentStatusDuration       605\n",
       "IsBorrowerHomeowner              2\n",
       "CreditScoreRangeLower           26\n",
       "CreditScoreRangeUpper           26\n",
       "DebtToIncomeRatio             1207\n",
       "IncomeRange                      8\n",
       "StatedMonthlyIncome          13502\n",
       "LoanOriginalAmount            2468\n",
       "MonthlyLoanPayment           23567\n",
       "dtype: int64"
      ]
     },
     "execution_count": 9,
     "metadata": {},
     "output_type": "execute_result"
    }
   ],
   "source": [
    "# Check for uniqueness\n",
    "df_clean.nunique()"
   ]
  },
  {
   "cell_type": "code",
   "execution_count": 10,
   "metadata": {},
   "outputs": [
    {
     "data": {
      "text/html": [
       "<div>\n",
       "<style scoped>\n",
       "    .dataframe tbody tr th:only-of-type {\n",
       "        vertical-align: middle;\n",
       "    }\n",
       "\n",
       "    .dataframe tbody tr th {\n",
       "        vertical-align: top;\n",
       "    }\n",
       "\n",
       "    .dataframe thead th {\n",
       "        text-align: right;\n",
       "    }\n",
       "</style>\n",
       "<table border=\"1\" class=\"dataframe\">\n",
       "  <thead>\n",
       "    <tr style=\"text-align: right;\">\n",
       "      <th></th>\n",
       "      <th>Term</th>\n",
       "      <th>ListingCategory (numeric)</th>\n",
       "      <th>EmploymentStatusDuration</th>\n",
       "      <th>CreditScoreRangeLower</th>\n",
       "      <th>CreditScoreRangeUpper</th>\n",
       "      <th>DebtToIncomeRatio</th>\n",
       "      <th>StatedMonthlyIncome</th>\n",
       "      <th>LoanOriginalAmount</th>\n",
       "      <th>MonthlyLoanPayment</th>\n",
       "    </tr>\n",
       "  </thead>\n",
       "  <tbody>\n",
       "    <tr>\n",
       "      <th>count</th>\n",
       "      <td>113937.000000</td>\n",
       "      <td>113937.000000</td>\n",
       "      <td>106312.000000</td>\n",
       "      <td>113346.000000</td>\n",
       "      <td>113346.000000</td>\n",
       "      <td>105383.000000</td>\n",
       "      <td>1.139370e+05</td>\n",
       "      <td>113937.00000</td>\n",
       "      <td>113937.000000</td>\n",
       "    </tr>\n",
       "    <tr>\n",
       "      <th>mean</th>\n",
       "      <td>40.830248</td>\n",
       "      <td>2.774209</td>\n",
       "      <td>96.071582</td>\n",
       "      <td>685.567731</td>\n",
       "      <td>704.567731</td>\n",
       "      <td>0.275947</td>\n",
       "      <td>5.608026e+03</td>\n",
       "      <td>8337.01385</td>\n",
       "      <td>272.475783</td>\n",
       "    </tr>\n",
       "    <tr>\n",
       "      <th>std</th>\n",
       "      <td>10.436212</td>\n",
       "      <td>3.996797</td>\n",
       "      <td>94.480605</td>\n",
       "      <td>66.458275</td>\n",
       "      <td>66.458275</td>\n",
       "      <td>0.551759</td>\n",
       "      <td>7.478497e+03</td>\n",
       "      <td>6245.80058</td>\n",
       "      <td>192.697812</td>\n",
       "    </tr>\n",
       "    <tr>\n",
       "      <th>min</th>\n",
       "      <td>12.000000</td>\n",
       "      <td>0.000000</td>\n",
       "      <td>0.000000</td>\n",
       "      <td>0.000000</td>\n",
       "      <td>19.000000</td>\n",
       "      <td>0.000000</td>\n",
       "      <td>0.000000e+00</td>\n",
       "      <td>1000.00000</td>\n",
       "      <td>0.000000</td>\n",
       "    </tr>\n",
       "    <tr>\n",
       "      <th>25%</th>\n",
       "      <td>36.000000</td>\n",
       "      <td>1.000000</td>\n",
       "      <td>26.000000</td>\n",
       "      <td>660.000000</td>\n",
       "      <td>679.000000</td>\n",
       "      <td>0.140000</td>\n",
       "      <td>3.200333e+03</td>\n",
       "      <td>4000.00000</td>\n",
       "      <td>131.620000</td>\n",
       "    </tr>\n",
       "    <tr>\n",
       "      <th>50%</th>\n",
       "      <td>36.000000</td>\n",
       "      <td>1.000000</td>\n",
       "      <td>67.000000</td>\n",
       "      <td>680.000000</td>\n",
       "      <td>699.000000</td>\n",
       "      <td>0.220000</td>\n",
       "      <td>4.666667e+03</td>\n",
       "      <td>6500.00000</td>\n",
       "      <td>217.740000</td>\n",
       "    </tr>\n",
       "    <tr>\n",
       "      <th>75%</th>\n",
       "      <td>36.000000</td>\n",
       "      <td>3.000000</td>\n",
       "      <td>137.000000</td>\n",
       "      <td>720.000000</td>\n",
       "      <td>739.000000</td>\n",
       "      <td>0.320000</td>\n",
       "      <td>6.825000e+03</td>\n",
       "      <td>12000.00000</td>\n",
       "      <td>371.580000</td>\n",
       "    </tr>\n",
       "    <tr>\n",
       "      <th>max</th>\n",
       "      <td>60.000000</td>\n",
       "      <td>20.000000</td>\n",
       "      <td>755.000000</td>\n",
       "      <td>880.000000</td>\n",
       "      <td>899.000000</td>\n",
       "      <td>10.010000</td>\n",
       "      <td>1.750003e+06</td>\n",
       "      <td>35000.00000</td>\n",
       "      <td>2251.510000</td>\n",
       "    </tr>\n",
       "  </tbody>\n",
       "</table>\n",
       "</div>"
      ],
      "text/plain": [
       "                Term  ListingCategory (numeric)  EmploymentStatusDuration  \\\n",
       "count  113937.000000              113937.000000             106312.000000   \n",
       "mean       40.830248                   2.774209                 96.071582   \n",
       "std        10.436212                   3.996797                 94.480605   \n",
       "min        12.000000                   0.000000                  0.000000   \n",
       "25%        36.000000                   1.000000                 26.000000   \n",
       "50%        36.000000                   1.000000                 67.000000   \n",
       "75%        36.000000                   3.000000                137.000000   \n",
       "max        60.000000                  20.000000                755.000000   \n",
       "\n",
       "       CreditScoreRangeLower  CreditScoreRangeUpper  DebtToIncomeRatio  \\\n",
       "count          113346.000000          113346.000000      105383.000000   \n",
       "mean              685.567731             704.567731           0.275947   \n",
       "std                66.458275              66.458275           0.551759   \n",
       "min                 0.000000              19.000000           0.000000   \n",
       "25%               660.000000             679.000000           0.140000   \n",
       "50%               680.000000             699.000000           0.220000   \n",
       "75%               720.000000             739.000000           0.320000   \n",
       "max               880.000000             899.000000          10.010000   \n",
       "\n",
       "       StatedMonthlyIncome  LoanOriginalAmount  MonthlyLoanPayment  \n",
       "count         1.139370e+05        113937.00000       113937.000000  \n",
       "mean          5.608026e+03          8337.01385          272.475783  \n",
       "std           7.478497e+03          6245.80058          192.697812  \n",
       "min           0.000000e+00          1000.00000            0.000000  \n",
       "25%           3.200333e+03          4000.00000          131.620000  \n",
       "50%           4.666667e+03          6500.00000          217.740000  \n",
       "75%           6.825000e+03         12000.00000          371.580000  \n",
       "max           1.750003e+06         35000.00000         2251.510000  "
      ]
     },
     "execution_count": 10,
     "metadata": {},
     "output_type": "execute_result"
    }
   ],
   "source": [
    "# Assess more information about variables\n",
    "df_clean.describe()"
   ]
  },
  {
   "cell_type": "code",
   "execution_count": 11,
   "metadata": {},
   "outputs": [
    {
     "data": {
      "text/plain": [
       "36    87778\n",
       "60    24545\n",
       "12     1614\n",
       "Name: Term, dtype: int64"
      ]
     },
     "execution_count": 11,
     "metadata": {},
     "output_type": "execute_result"
    }
   ],
   "source": [
    "df_clean.Term.value_counts()"
   ]
  },
  {
   "cell_type": "code",
   "execution_count": 12,
   "metadata": {},
   "outputs": [
    {
     "data": {
      "text/plain": [
       "1     58308\n",
       "0     16965\n",
       "7     10494\n",
       "2      7433\n",
       "3      7189\n",
       "6      2572\n",
       "4      2395\n",
       "13     1996\n",
       "15     1522\n",
       "18      885\n",
       "14      876\n",
       "20      771\n",
       "19      768\n",
       "5       756\n",
       "16      304\n",
       "11      217\n",
       "8       199\n",
       "10       91\n",
       "9        85\n",
       "12       59\n",
       "17       52\n",
       "Name: ListingCategory (numeric), dtype: int64"
      ]
     },
     "execution_count": 12,
     "metadata": {},
     "output_type": "execute_result"
    }
   ],
   "source": [
    "df_clean['ListingCategory (numeric)'].value_counts()"
   ]
  },
  {
   "cell_type": "code",
   "execution_count": 13,
   "metadata": {},
   "outputs": [
    {
     "data": {
      "text/plain": [
       "array(['CO', 'GA', 'MN', 'NM', 'KS', 'CA', 'IL', 'MD', nan, 'AL', 'AZ',\n",
       "       'VA', 'FL', 'PA', 'OR', 'MI', 'NY', 'LA', 'WI', 'OH', 'NC', 'WA',\n",
       "       'NV', 'NJ', 'TX', 'AR', 'SC', 'DE', 'MO', 'NE', 'UT', 'DC', 'MA',\n",
       "       'CT', 'IN', 'KY', 'OK', 'MS', 'WV', 'RI', 'TN', 'ID', 'MT', 'HI',\n",
       "       'NH', 'VT', 'WY', 'ME', 'AK', 'IA', 'SD', 'ND'], dtype=object)"
      ]
     },
     "execution_count": 13,
     "metadata": {},
     "output_type": "execute_result"
    }
   ],
   "source": [
    "df_clean['BorrowerState'].unique()"
   ]
  },
  {
   "cell_type": "code",
   "execution_count": 14,
   "metadata": {},
   "outputs": [
    {
     "data": {
      "text/plain": [
       "array(['Self-employed', 'Employed', 'Not available', 'Full-time', 'Other',\n",
       "       nan, 'Not employed', 'Part-time', 'Retired'], dtype=object)"
      ]
     },
     "execution_count": 14,
     "metadata": {},
     "output_type": "execute_result"
    }
   ],
   "source": [
    "df_clean['EmploymentStatus'].unique()"
   ]
  },
  {
   "cell_type": "code",
   "execution_count": 15,
   "metadata": {},
   "outputs": [
    {
     "data": {
      "text/plain": [
       "True     57478\n",
       "False    56459\n",
       "Name: IsBorrowerHomeowner, dtype: int64"
      ]
     },
     "execution_count": 15,
     "metadata": {},
     "output_type": "execute_result"
    }
   ],
   "source": [
    "df_clean['IsBorrowerHomeowner'].value_counts()"
   ]
  },
  {
   "cell_type": "code",
   "execution_count": 16,
   "metadata": {},
   "outputs": [
    {
     "data": {
      "text/plain": [
       "$25,000-49,999    32192\n",
       "$50,000-74,999    31050\n",
       "$100,000+         17337\n",
       "$75,000-99,999    16916\n",
       "Not displayed      7741\n",
       "$1-24,999          7274\n",
       "Not employed        806\n",
       "$0                  621\n",
       "Name: IncomeRange, dtype: int64"
      ]
     },
     "execution_count": 16,
     "metadata": {},
     "output_type": "execute_result"
    }
   ],
   "source": [
    "df_clean['IncomeRange'].value_counts()"
   ]
  },
  {
   "cell_type": "code",
   "execution_count": 17,
   "metadata": {},
   "outputs": [
    {
     "data": {
      "text/plain": [
       "874"
      ]
     },
     "execution_count": 17,
     "metadata": {},
     "output_type": "execute_result"
    }
   ],
   "source": [
    "sum(df_clean.duplicated())"
   ]
  },
  {
   "cell_type": "markdown",
   "metadata": {},
   "source": [
    "## Cleaning the Data\n",
    "\n",
    "**Quality Issues:**\n",
    "1. Name of the column `ListingCategory (numeric)` includes a space.\n",
    "2. Data type of the `Term` column is integer, not ordinal categorical variable.\n",
    "3. Data type of the `ListingCategory (numeric)` column is integer, not nominal categorical variable.\n",
    "4. The `EmploymentStatus` column includes two categories which may indicate the same status of employment: Not available and NaN.\n",
    "5. There are 871 duplicate rows of data in the df_clean dataframe.\n",
    "6. 11 of the 16 features in the dataframe object df_clean include multiple NaN values.\n",
    "7. Data types for columns `EmploymentStatusDuration`, `CreditScoreRangeLower`, and `CreditScoreRangeUpper` are floats, not integers.\n",
    "8. Values under the `StatedMonthlyIncome` column have more than two digits after the decimal although the column represents a monetary amount.\n",
    "9. Data type of the `LoanOriginalAmount` column, which represents a monetary amount, is an integer, not float. \n",
    "\n",
    "**Tidiness Issue:**\n",
    "1. Range of each borrower's credit score is split into two columns for lower and upper boundaries, instead of a range."
   ]
  },
  {
   "cell_type": "markdown",
   "metadata": {},
   "source": [
    "### Quality Issue 1\n",
    "*The name for column `ListingCategory (numeric)` includes a space.*\n",
    "\n",
    "**Define:** Change the name of the column to `ListingCategory`.\n",
    "\n",
    "**Code**"
   ]
  },
  {
   "cell_type": "code",
   "execution_count": 18,
   "metadata": {},
   "outputs": [],
   "source": [
    "# Change column name\n",
    "df_clean.rename(columns = {'ListingCategory (numeric)': 'ListingCategory'}, inplace=True)"
   ]
  },
  {
   "cell_type": "markdown",
   "metadata": {},
   "source": [
    "**Test**"
   ]
  },
  {
   "cell_type": "code",
   "execution_count": 19,
   "metadata": {},
   "outputs": [
    {
     "data": {
      "text/plain": [
       "Index(['Term', 'ListingCategory', 'BorrowerState', 'EmploymentStatus',\n",
       "       'EmploymentStatusDuration', 'IsBorrowerHomeowner',\n",
       "       'CreditScoreRangeLower', 'CreditScoreRangeUpper', 'DebtToIncomeRatio',\n",
       "       'IncomeRange', 'StatedMonthlyIncome', 'LoanOriginalAmount',\n",
       "       'MonthlyLoanPayment'],\n",
       "      dtype='object')"
      ]
     },
     "execution_count": 19,
     "metadata": {},
     "output_type": "execute_result"
    }
   ],
   "source": [
    "# Confirm the change in name\n",
    "df_clean.columns"
   ]
  },
  {
   "cell_type": "markdown",
   "metadata": {},
   "source": [
    "### Quality Issue 2\n",
    "*Data type of the `Term` column is integer, not ordinal categorical variable.*\n",
    "\n",
    "**Define:** Convert the data type from integer to ordinal category.\n",
    "\n",
    "**Code**"
   ]
  },
  {
   "cell_type": "code",
   "execution_count": 20,
   "metadata": {},
   "outputs": [],
   "source": [
    "# Ordered list of unique values in Term\n",
    "terms = list(df_clean.Term.unique())\n",
    "terms.sort()\n",
    "\n",
    "# Convert data type to ordinal category\n",
    "loan_terms = pd.api.types.CategoricalDtype(ordered = True, categories = terms)\n",
    "df_clean.Term = df_clean.Term.astype(loan_terms)"
   ]
  },
  {
   "cell_type": "markdown",
   "metadata": {},
   "source": [
    "**Test**"
   ]
  },
  {
   "cell_type": "code",
   "execution_count": 21,
   "metadata": {},
   "outputs": [
    {
     "data": {
      "text/plain": [
       "CategoricalDtype(categories=[12, 36, 60], ordered=True)"
      ]
     },
     "execution_count": 21,
     "metadata": {},
     "output_type": "execute_result"
    }
   ],
   "source": [
    "# Confirm the change in data type\n",
    "df_clean.Term.dtype"
   ]
  },
  {
   "cell_type": "markdown",
   "metadata": {},
   "source": [
    "### Quality Issue 3\n",
    "*Data type of the `ListingCategory` column is integer, not nominal categorical variable.*\n",
    "\n",
    "**Define:** Convert the data type from integer to nominal category.\n",
    "\n",
    "**Code**"
   ]
  },
  {
   "cell_type": "code",
   "execution_count": 22,
   "metadata": {},
   "outputs": [],
   "source": [
    "# Ordered list of unique values in ListingCategory\n",
    "categories = list(df_clean.ListingCategory.unique())\n",
    "categories.sort()\n",
    "\n",
    "# Convert data type to nominal category\n",
    "list_categories = pd.api.types.CategoricalDtype(categories = categories)\n",
    "df_clean.ListingCategory = df_clean.ListingCategory.astype(list_categories)"
   ]
  },
  {
   "cell_type": "markdown",
   "metadata": {},
   "source": [
    "**Test**"
   ]
  },
  {
   "cell_type": "code",
   "execution_count": 23,
   "metadata": {},
   "outputs": [
    {
     "data": {
      "text/plain": [
       "CategoricalDtype(categories=[0, 1, 2, 3, 4, 5, 6, 7, 8, 9, 10, 11, 12, 13, 14, 15, 16, 17,\n",
       "                  18, 19, 20],\n",
       "                 ordered=False)"
      ]
     },
     "execution_count": 23,
     "metadata": {},
     "output_type": "execute_result"
    }
   ],
   "source": [
    "# Confirm the change in data type\n",
    "df_clean.ListingCategory.dtype"
   ]
  },
  {
   "cell_type": "markdown",
   "metadata": {},
   "source": [
    "### Quality Issue 4\n",
    "*The `EmploymentStatus` column includes two categories which may indicate the same status of employment: Not available and NaN.*\n",
    "\n",
    "**Define:** Change all 'Not Available' to NaN.\n",
    "\n",
    "**Code**"
   ]
  },
  {
   "cell_type": "code",
   "execution_count": 24,
   "metadata": {},
   "outputs": [
    {
     "name": "stdout",
     "output_type": "stream",
     "text": [
      "5347\n",
      "2255\n"
     ]
    }
   ],
   "source": [
    "# Total number of instances of 'Not available' for EmploymentStatus\n",
    "count_status_before = df_clean.query('EmploymentStatus == \"Not available\"').shape[0]\n",
    "count_nan_before = df_clean.EmploymentStatus.isna().sum()\n",
    "\n",
    "print(count_status_before)\n",
    "print(count_nan_before)"
   ]
  },
  {
   "cell_type": "code",
   "execution_count": 25,
   "metadata": {},
   "outputs": [],
   "source": [
    "# Replace 'Not available' with NaN\n",
    "df_clean.EmploymentStatus.replace(to_replace = 'Not available', value = np.nan, inplace = True)"
   ]
  },
  {
   "cell_type": "markdown",
   "metadata": {},
   "source": [
    "**Test**"
   ]
  },
  {
   "cell_type": "code",
   "execution_count": 26,
   "metadata": {},
   "outputs": [
    {
     "name": "stdout",
     "output_type": "stream",
     "text": [
      "5347\n",
      "0\n",
      "5347\n"
     ]
    }
   ],
   "source": [
    "# Verify all 'Not available' are replaced with NaN\n",
    "count_status_after = df_clean.query('EmploymentStatus == \"Not available\"').shape[0]\n",
    "count_nan_replaced = df_clean.EmploymentStatus.isna().sum() - count_nan_before\n",
    "\n",
    "print(count_status_before)\n",
    "print(count_status_after)\n",
    "print(count_nan_replaced)"
   ]
  },
  {
   "cell_type": "markdown",
   "metadata": {},
   "source": [
    "### Quality Issue 5\n",
    "*There are 871 duplicate rows of data in the df_clean dataframe.*\n",
    "\n",
    "**Define:** Remove all duplicated rows from the dataframe.\n",
    "\n",
    "**Code**"
   ]
  },
  {
   "cell_type": "code",
   "execution_count": 27,
   "metadata": {},
   "outputs": [],
   "source": [
    "# Remove all duplicate rows\n",
    "df_clean.drop_duplicates(inplace=True)"
   ]
  },
  {
   "cell_type": "markdown",
   "metadata": {},
   "source": [
    "**Test**"
   ]
  },
  {
   "cell_type": "code",
   "execution_count": 28,
   "metadata": {},
   "outputs": [
    {
     "data": {
      "text/plain": [
       "0"
      ]
     },
     "execution_count": 28,
     "metadata": {},
     "output_type": "execute_result"
    }
   ],
   "source": [
    "# Confirm there are no duplicate rows\n",
    "df_clean.duplicated().sum()"
   ]
  },
  {
   "cell_type": "markdown",
   "metadata": {},
   "source": [
    "### Quality Issue 6\n",
    "*11 of the 16 features in the dataframe object df_clean include multiple NaN values.*\n",
    "\n",
    "**Define:** Remove the rows that include at least one NaN.\n",
    "\n",
    "**Code**"
   ]
  },
  {
   "cell_type": "code",
   "execution_count": 29,
   "metadata": {},
   "outputs": [],
   "source": [
    "# Drop all rows with NaN\n",
    "df_clean.dropna(inplace=True)"
   ]
  },
  {
   "cell_type": "markdown",
   "metadata": {},
   "source": [
    "**Test**"
   ]
  },
  {
   "cell_type": "code",
   "execution_count": 30,
   "metadata": {},
   "outputs": [
    {
     "data": {
      "text/plain": [
       "Term                        0\n",
       "ListingCategory             0\n",
       "BorrowerState               0\n",
       "EmploymentStatus            0\n",
       "EmploymentStatusDuration    0\n",
       "IsBorrowerHomeowner         0\n",
       "CreditScoreRangeLower       0\n",
       "CreditScoreRangeUpper       0\n",
       "DebtToIncomeRatio           0\n",
       "IncomeRange                 0\n",
       "StatedMonthlyIncome         0\n",
       "LoanOriginalAmount          0\n",
       "MonthlyLoanPayment          0\n",
       "dtype: int64"
      ]
     },
     "execution_count": 30,
     "metadata": {},
     "output_type": "execute_result"
    }
   ],
   "source": [
    "# Confirm all rows have non-NaN values\n",
    "df_clean.isnull().sum()"
   ]
  },
  {
   "cell_type": "code",
   "execution_count": 31,
   "metadata": {},
   "outputs": [],
   "source": [
    "# Reset index to have indices increase from 0 by 1\n",
    "df_clean.reset_index(drop=True, inplace=True)"
   ]
  },
  {
   "cell_type": "markdown",
   "metadata": {},
   "source": [
    "### Quality Issue 7\n",
    "*Data types for columns `EmploymentStatusDuration`, `CreditScoreRangeLower`, and `CreditScoreRangeUpper` are floats, not integers.*\n",
    "\n",
    "**Define:** Convert the data types from floats to integers.\n",
    "\n",
    "**Code & Test**"
   ]
  },
  {
   "cell_type": "code",
   "execution_count": 32,
   "metadata": {},
   "outputs": [
    {
     "name": "stdout",
     "output_type": "stream",
     "text": [
      "EmploymentStatusDuration int32\n",
      "CreditScoreRangeLower int32\n",
      "CreditScoreRangeUpper int32\n"
     ]
    }
   ],
   "source": [
    "# List of the columns that need to be converted \n",
    "column_list = ['EmploymentStatusDuration', 'CreditScoreRangeLower', 'CreditScoreRangeUpper']\n",
    "\n",
    "# Change the data type from float to integer\n",
    "for column in column_list:\n",
    "    df_clean[column] = df_clean[column].astype(dtype = 'int')\n",
    "    \n",
    "    # Confirm that the change in data type\n",
    "    print(column, df_clean[column].dtype)"
   ]
  },
  {
   "cell_type": "markdown",
   "metadata": {},
   "source": [
    "### Quality Issue 8\n",
    "*Values under the `StatedMonthlyIncome` column have more than two digits after the decimal although the column represents a monetary amount.*\n",
    "\n",
    "**Define:** Round the values in the `StatedMonthlyIncome` column to two decimal places.\n",
    "\n",
    "**Code**"
   ]
  },
  {
   "cell_type": "code",
   "execution_count": 33,
   "metadata": {},
   "outputs": [],
   "source": [
    "# Round floats to two decimal places\n",
    "df_clean.StatedMonthlyIncome = df_clean.StatedMonthlyIncome.round(decimals = 2)"
   ]
  },
  {
   "cell_type": "markdown",
   "metadata": {},
   "source": [
    "**Test**"
   ]
  },
  {
   "cell_type": "code",
   "execution_count": 34,
   "metadata": {},
   "outputs": [
    {
     "data": {
      "text/plain": [
       "44265     5000.00\n",
       "49078     2996.50\n",
       "87366     3333.33\n",
       "59684    13500.00\n",
       "63156     3583.33\n",
       "89108     6200.00\n",
       "66430     2500.00\n",
       "15335     5333.33\n",
       "90781     9000.00\n",
       "81601     2965.67\n",
       "Name: StatedMonthlyIncome, dtype: float64"
      ]
     },
     "execution_count": 34,
     "metadata": {},
     "output_type": "execute_result"
    }
   ],
   "source": [
    "# Confirm dollar amounts are rounded to two decimal places with a sample\n",
    "df_clean.StatedMonthlyIncome.sample(10)"
   ]
  },
  {
   "cell_type": "markdown",
   "metadata": {},
   "source": [
    "### Quality Issue 9\n",
    "*Data type of the `LoanOriginalAmount` column, which represents a monetary amount, is an integer, not float.*\n",
    "\n",
    "**Define:** Convert data type from integer to float.\n",
    "\n",
    "**Code**"
   ]
  },
  {
   "cell_type": "code",
   "execution_count": 35,
   "metadata": {},
   "outputs": [],
   "source": [
    "# Convert data type to float\n",
    "df_clean.LoanOriginalAmount = df_clean.LoanOriginalAmount.astype(dtype = 'float')"
   ]
  },
  {
   "cell_type": "markdown",
   "metadata": {},
   "source": [
    "**Test**"
   ]
  },
  {
   "cell_type": "code",
   "execution_count": 36,
   "metadata": {},
   "outputs": [
    {
     "data": {
      "text/plain": [
       "dtype('float64')"
      ]
     },
     "execution_count": 36,
     "metadata": {},
     "output_type": "execute_result"
    }
   ],
   "source": [
    "# Confirm data type has changed\n",
    "df_clean.LoanOriginalAmount.dtype"
   ]
  },
  {
   "cell_type": "markdown",
   "metadata": {},
   "source": [
    "### Tidiness Issue 1\n",
    "*Range of each borrower's credit score is split into two columns for lower and upper boundaries, instead of a range.*\n",
    "\n",
    "**Define:** \n",
    "* Create a new column `CreditScoreRange` from existing columns.  \n",
    "* Change the data type in `CreditScoreRange` to ordinal categories.\n",
    "* Drop the two columns `CreditScoreRangeLower` and `CreditScoreRangeUpper`.\n",
    "\n",
    "**Code**"
   ]
  },
  {
   "cell_type": "code",
   "execution_count": 37,
   "metadata": {},
   "outputs": [],
   "source": [
    "columns = ['CreditScoreRangeLower', 'CreditScoreRangeUpper']\n",
    "\n",
    "# Convert data types of existing columns from integer to string for join operation\n",
    "for column in columns:\n",
    "    df_clean[column] = df_clean[column].astype(dtype = 'str')\n",
    "\n",
    "# Join the two boundaries with -\n",
    "df_clean['CreditScoreRange'] = df_clean[columns].apply(lambda x: '-'.join(x), axis=1)\n",
    "\n",
    "# Ordered list of unique values in CreditScoreRange\n",
    "ranges = list(df_clean.CreditScoreRange.unique())\n",
    "ranges.sort()\n",
    "\n",
    "# Convert data type to ordinal category\n",
    "creditscore_ranges = pd.api.types.CategoricalDtype(ordered=True, categories = ranges)\n",
    "df_clean.CreditScoreRange = df_clean.CreditScoreRange.astype(creditscore_ranges)\n",
    "\n",
    "# Drop CreditScoreRangeLower and CreditScoreRangeUpper columns\n",
    "df_clean.drop(columns = columns, inplace=True)"
   ]
  },
  {
   "cell_type": "markdown",
   "metadata": {},
   "source": [
    "**Test**"
   ]
  },
  {
   "cell_type": "code",
   "execution_count": 38,
   "metadata": {},
   "outputs": [
    {
     "data": {
      "text/plain": [
       "Index(['Term', 'ListingCategory', 'BorrowerState', 'EmploymentStatus',\n",
       "       'EmploymentStatusDuration', 'IsBorrowerHomeowner', 'DebtToIncomeRatio',\n",
       "       'IncomeRange', 'StatedMonthlyIncome', 'LoanOriginalAmount',\n",
       "       'MonthlyLoanPayment', 'CreditScoreRange'],\n",
       "      dtype='object')"
      ]
     },
     "execution_count": 38,
     "metadata": {},
     "output_type": "execute_result"
    }
   ],
   "source": [
    "# Confirm the changes in columns\n",
    "df_clean.columns"
   ]
  },
  {
   "cell_type": "code",
   "execution_count": 39,
   "metadata": {},
   "outputs": [
    {
     "data": {
      "text/plain": [
       "CategoricalDtype(categories=['520-539', '540-559', '560-579', '580-599', '600-619',\n",
       "                  '620-639', '640-659', '660-679', '680-699', '700-719',\n",
       "                  '720-739', '740-759', '760-779', '780-799', '800-819',\n",
       "                  '820-839', '840-859', '860-879', '880-899'],\n",
       "                 ordered=True)"
      ]
     },
     "execution_count": 39,
     "metadata": {},
     "output_type": "execute_result"
    }
   ],
   "source": [
    "# Verify data type for the ranges\n",
    "df_clean.CreditScoreRange.dtype"
   ]
  },
  {
   "cell_type": "markdown",
   "metadata": {},
   "source": [
    "## Univariate Exploration\n",
    "\n",
    "I will start by looking at the information regarding the number of loans in each term category (i.e., 12 month, 36 month, and 60 month term loans as described in the __[Prosper Loan Data Dictionary](https://docs.google.com/spreadsheets/d/1gDyi_L4UvIrLTEC6Wri5nbaMmkGmLQBk-Yx3z0XDEtI/edit#gid=0)__)."
   ]
  },
  {
   "cell_type": "code",
   "execution_count": 40,
   "metadata": {},
   "outputs": [
    {
     "data": {
      "image/png": "[encoded data removed]",
      "text/plain": [
       "<Figure size 432x288 with 1 Axes>"
      ]
     },
     "metadata": {
      "needs_background": "light"
     },
     "output_type": "display_data"
    }
   ],
   "source": [
    "# Create a base color for the charts\n",
    "base_color = sb.color_palette()[0]\n",
    "\n",
    "# Create count plot for term categories\n",
    "sb.countplot(data = df_clean, x = 'Term', color = base_color)\n",
    "plt.xlabel('Term Length (in Months)')\n",
    "plt.ylabel('Count')\n",
    "plt.title('Number of Loans in Each Term Category');"
   ]
  },
  {
   "cell_type": "code",
   "execution_count": 41,
   "metadata": {},
   "outputs": [
    {
     "data": {
      "image/png": "[encoded data removed]",
      "text/plain": [
       "<Figure size 432x288 with 1 Axes>"
      ]
     },
     "metadata": {
      "needs_background": "light"
     },
     "output_type": "display_data"
    }
   ],
   "source": [
    "# Modify the count plot of each term to show the percentage of loans within each term\n",
    "sb.countplot(data = df_clean, x = 'Term', color = base_color)\n",
    "plt.xlabel('Term Length (in Months)')\n",
    "plt.ylabel('')\n",
    "plt.ylim(0, 80000)\n",
    "plt.title('Number of Loans in Each Term Category')\n",
    "\n",
    "# Retrieve locations and labels of xticks\n",
    "locs, labels = plt.xticks()\n",
    "\n",
    "# Total count and counts for each term\n",
    "total_count = df_clean.shape[0]\n",
    "term_counts = df_clean.Term.value_counts()\n",
    "\n",
    "for loc, label in zip(locs, labels):\n",
    "    # Number of loans per term as integer\n",
    "    term_count = term_counts[int(label.get_text())]\n",
    "    \n",
    "    # Calculate the proportion of each term as percentage\n",
    "    term_proportion = '{} ({:0.1f}%)'.format(term_count, 100*term_count/total_count)\n",
    "    \n",
    "    # Place proportion of the term on the top of the bars\n",
    "    plt.text(x = loc, y = term_count + 1000, s = term_proportion, ha = 'center', color = 'black', fontsize = 10);"
   ]
  },
  {
   "cell_type": "markdown",
   "metadata": {},
   "source": [
    "74.6% of the loans issued are 3 year loans, 24% are 5 year loans, and 1.5% are 1 year loans.  This leads me to wonder what type of loans are being awarded.  Next I will explore `ListingCategory` and the counts per category."
   ]
  },
  {
   "cell_type": "code",
   "execution_count": 42,
   "metadata": {},
   "outputs": [
    {
     "data": {
      "image/png": "[encoded data removed]",
      "text/plain": [
       "<Figure size 432x288 with 1 Axes>"
      ]
     },
     "metadata": {
      "needs_background": "light"
     },
     "output_type": "display_data"
    }
   ],
   "source": [
    "# Create a count plot for listing categories\n",
    "category_order = df_clean['ListingCategory'].value_counts().index\n",
    "sb.countplot(data = df_clean, x = 'ListingCategory', color = base_color, order = category_order)\n",
    "plt.xlabel('Category')\n",
    "plt.ylabel('')\n",
    "plt.title('Number of Loans in Each Listing Category');"
   ]
  },
  {
   "cell_type": "code",
   "execution_count": null,
   "metadata": {},
   "outputs": [],
   "source": [
    "# Modify the count plot to provide the name of each listing category and their proportions in a horizontal plot \n",
    "sb.countplot(data = df_clean, y = 'ListingCategory', color = base_color, order = category_order)\n",
    "plt.xlabel('')\n",
    "plt.ylabel('Listing Category')\n",
    "plt.title('Number of Loans in Each Listing Category')\n",
    "\n",
    "# Convert listing category codes to descriptions provide in data dictionary\n",
    "locs = plt.yticks()[0]\n",
    "category_dict = {0:'N/A', 1:'Debt Consolidation', 2:'Home Improvement', 3:'Business', 4:'Personal Loan', 5:'Student Use'\n",
    "              , 6:'Auto', 7:'Other', 8:'Baby, Adoption', 9:'Boat', 10:'Cosmetic Procedure', 11:'Engagement Ring'\n",
    "              , 12:'Green Loans', 13:'Household Expenses', 14:'Large Purchases', 15:'Medical/Dental', 16:'Motorcycle'\n",
    "              , 17:'RV', 18:'Taxes', 19:'Vacation', 20:'Wedding Loans'}\n",
    "category_labels = [category_dict[category_num] for category_num in category_order]\n",
    "plt.yticks(locs, category_labels);\n",
    "\n",
    "# Show the number of loans for each category\n",
    "category_counts = df_clean.ListingCategory.value_counts()\n",
    "\n",
    "for loc, label in zip(locs, category_order):\n",
    "    # Number of loan for the given category\n",
    "    category_count = category_counts[label]\n",
    "    \n",
    "    # Calculate the proportion of each category as percentage\n",
    "    category_prop = '{} ({:0.2f}%)'.format(category_count, 100*category_count/total_count)\n",
    "    \n",
    "    # Place proportion of each category at the right of each bar\n",
    "    plt.text(y = loc, x = category_count + 1000, s = category_prop, va = 'center', color = 'black', fontsize = 10);"
   ]
  },
  {
   "cell_type": "code",
   "execution_count": 1,
   "metadata": {},
   "outputs": [
    {
     "ename": "NameError",
     "evalue": "name 'sb' is not defined",
     "output_type": "error",
     "traceback": [
      "\u001b[1;31m---------------------------------------------------------------------------\u001b[0m",
      "\u001b[1;31mNameError\u001b[0m                                 Traceback (most recent call last)",
      "\u001b[1;32m<ipython-input-1-014e1eef2452>\u001b[0m in \u001b[0;36m<module>\u001b[1;34m\u001b[0m\n\u001b[0;32m      1\u001b[0m \u001b[1;31m# Create the count plot given the category_dict\u001b[0m\u001b[1;33m\u001b[0m\u001b[1;33m\u001b[0m\u001b[1;33m\u001b[0m\u001b[0m\n\u001b[1;32m----> 2\u001b[1;33m \u001b[0msb\u001b[0m\u001b[1;33m.\u001b[0m\u001b[0mcountplot\u001b[0m\u001b[1;33m(\u001b[0m\u001b[0mdata\u001b[0m \u001b[1;33m=\u001b[0m \u001b[0mdf_clean\u001b[0m\u001b[1;33m,\u001b[0m \u001b[0my\u001b[0m \u001b[1;33m=\u001b[0m \u001b[1;34m'ListingCategory'\u001b[0m\u001b[1;33m,\u001b[0m \u001b[0mcolor\u001b[0m \u001b[1;33m=\u001b[0m \u001b[0mbase_color\u001b[0m\u001b[1;33m,\u001b[0m \u001b[0morder\u001b[0m \u001b[1;33m=\u001b[0m \u001b[0mcategory_order\u001b[0m\u001b[1;33m)\u001b[0m\u001b[1;33m\u001b[0m\u001b[1;33m\u001b[0m\u001b[0m\n\u001b[0m\u001b[0;32m      3\u001b[0m \u001b[0mplt\u001b[0m\u001b[1;33m.\u001b[0m\u001b[0mxlabel\u001b[0m\u001b[1;33m(\u001b[0m\u001b[1;34m''\u001b[0m\u001b[1;33m)\u001b[0m\u001b[1;33m\u001b[0m\u001b[1;33m\u001b[0m\u001b[0m\n\u001b[0;32m      4\u001b[0m \u001b[0mplt\u001b[0m\u001b[1;33m.\u001b[0m\u001b[0mylabel\u001b[0m\u001b[1;33m(\u001b[0m\u001b[1;34m'Listing Category'\u001b[0m\u001b[1;33m)\u001b[0m\u001b[1;33m\u001b[0m\u001b[1;33m\u001b[0m\u001b[0m\n\u001b[0;32m      5\u001b[0m \u001b[0mplt\u001b[0m\u001b[1;33m.\u001b[0m\u001b[0mtitle\u001b[0m\u001b[1;33m(\u001b[0m\u001b[1;34m'Number of Loans in Each Listing Category'\u001b[0m\u001b[1;33m)\u001b[0m\u001b[1;33m\u001b[0m\u001b[1;33m\u001b[0m\u001b[0m\n",
      "\u001b[1;31mNameError\u001b[0m: name 'sb' is not defined"
     ]
    }
   ],
   "source": []
  },
  {
   "cell_type": "code",
   "execution_count": null,
   "metadata": {},
   "outputs": [],
   "source": []
  },
  {
   "cell_type": "code",
   "execution_count": null,
   "metadata": {},
   "outputs": [],
   "source": []
  },
  {
   "cell_type": "code",
   "execution_count": null,
   "metadata": {},
   "outputs": [],
   "source": []
  },
  {
   "cell_type": "code",
   "execution_count": null,
   "metadata": {},
   "outputs": [],
   "source": []
  },
  {
   "cell_type": "code",
   "execution_count": null,
   "metadata": {},
   "outputs": [],
   "source": []
  },
  {
   "cell_type": "code",
   "execution_count": null,
   "metadata": {},
   "outputs": [],
   "source": []
  },
  {
   "cell_type": "code",
   "execution_count": null,
   "metadata": {},
   "outputs": [],
   "source": []
  },
  {
   "cell_type": "code",
   "execution_count": null,
   "metadata": {},
   "outputs": [],
   "source": []
  },
  {
   "cell_type": "code",
   "execution_count": null,
   "metadata": {},
   "outputs": [],
   "source": []
  },
  {
   "cell_type": "markdown",
   "metadata": {},
   "source": [
    "### References\n",
    "* https://github.com/jmlcode/p4-prosper-loan-data-visualization"
   ]
  }
 ],
 "metadata": {
  "kernelspec": {
   "display_name": "Python 3",
   "language": "python",
   "name": "python3"
  },
  "language_info": {
   "codemirror_mode": {
    "name": "ipython",
    "version": 3
   },
   "file_extension": ".py",
   "mimetype": "text/x-python",
   "name": "python",
   "nbconvert_exporter": "python",
   "pygments_lexer": "ipython3",
   "version": "3.7.6"
  }
 },
 "nbformat": 4,
 "nbformat_minor": 4
}
