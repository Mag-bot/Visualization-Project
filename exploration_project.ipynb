{
 "cells": [
  {
   "cell_type": "markdown",
   "metadata": {},
   "source": [
    "# Bay Wheels Trip Comparision for July 2019 & 2020\n",
    "### by Magon Bowling\n",
    "\n",
    "\n",
    "## Preliminary Wrangling\n",
    "\n",
    "In selecting a dataset to explore, I chose the Bay Wheels Trip Data.  I thought it would be interesting to compare data for the same month in two different years.  From this dataset, I will explore and compare the use of bike sharing in California's Bay area between 2019 and 2020 for the month of July.  I explect to see a significant difference between the two months due to the coronavirus pandemic in 2020."
   ]
  },
  {
   "cell_type": "code",
   "execution_count": 1,
   "metadata": {},
   "outputs": [],
   "source": [
    "# Import all packages and set plots to be embedded inline\n",
    "import numpy as np\n",
    "import pandas as pd\n",
    "import matplotlib.pyplot as plt\n",
    "import seaborn as sb\n",
    "\n",
    "%matplotlib inline"
   ]
  },
  {
   "cell_type": "code",
   "execution_count": 2,
   "metadata": {},
   "outputs": [
    {
     "name": "stderr",
     "output_type": "stream",
     "text": [
      "C:\\Users\\bowld\\Documents\\Udacity\\anaconda3\\lib\\site-packages\\IPython\\core\\interactiveshell.py:3063: DtypeWarning: Columns (13,14) have mixed types.Specify dtype option on import or set low_memory=False.\n",
      "  interactivity=interactivity, compiler=compiler, result=result)\n"
     ]
    }
   ],
   "source": [
    "# Load the csv files for analysis\n",
    "df_19 = pd.read_csv('201907-baywheels-tripdata.csv')\n",
    "df_20 = pd.read_csv('202007-baywheels-tripdata.csv')"
   ]
  },
  {
   "cell_type": "code",
   "execution_count": 3,
   "metadata": {},
   "outputs": [
    {
     "name": "stdout",
     "output_type": "stream",
     "text": [
      "(258102, 15)\n",
      "<class 'pandas.core.frame.DataFrame'>\n",
      "RangeIndex: 258102 entries, 0 to 258101\n",
      "Data columns (total 15 columns):\n",
      " #   Column                   Non-Null Count   Dtype  \n",
      "---  ------                   --------------   -----  \n",
      " 0   duration_sec             258102 non-null  int64  \n",
      " 1   start_time               258102 non-null  object \n",
      " 2   end_time                 258102 non-null  object \n",
      " 3   start_station_id         202215 non-null  float64\n",
      " 4   start_station_name       202811 non-null  object \n",
      " 5   start_station_latitude   258102 non-null  float64\n",
      " 6   start_station_longitude  258102 non-null  float64\n",
      " 7   end_station_id           200526 non-null  float64\n",
      " 8   end_station_name         201076 non-null  object \n",
      " 9   end_station_latitude     258102 non-null  float64\n",
      " 10  end_station_longitude    258102 non-null  float64\n",
      " 11  bike_id                  258102 non-null  int64  \n",
      " 12  user_type                258102 non-null  object \n",
      " 13  bike_share_for_all_trip  170248 non-null  object \n",
      " 14  rental_access_method     87854 non-null   object \n",
      "dtypes: float64(6), int64(2), object(7)\n",
      "memory usage: 29.5+ MB\n",
      "None\n",
      "   duration_sec                start_time                  end_time  \\\n",
      "0         85457  2019-07-31 09:25:37.3410  2019-08-01 09:09:54.6000   \n",
      "1         53831  2019-07-31 18:00:10.2940  2019-08-01 08:57:21.9750   \n",
      "2         33674  2019-07-31 22:52:29.7910  2019-08-01 08:13:44.0100   \n",
      "3         34546  2019-07-31 21:59:34.2580  2019-08-01 07:35:21.0440   \n",
      "4         40244  2019-07-31 20:20:37.5420  2019-08-01 07:31:21.6060   \n",
      "\n",
      "   start_station_id                        start_station_name  \\\n",
      "0              36.0                       Folsom St at 3rd St   \n",
      "1             139.0  Garfield Square (25th St at Harrison St)   \n",
      "2             155.0                  Emeryville Public Market   \n",
      "3              41.0                Golden Gate Ave at Polk St   \n",
      "4             339.0                     Jackson St at 11th St   \n",
      "\n",
      "   start_station_latitude  start_station_longitude  end_station_id  \\\n",
      "0               37.783830              -122.398870           344.0   \n",
      "1               37.751017              -122.411901           133.0   \n",
      "2               37.840521              -122.293528           155.0   \n",
      "3               37.781270              -122.418740            73.0   \n",
      "4               37.800002              -122.266438           233.0   \n",
      "\n",
      "                            end_station_name  end_station_latitude  \\\n",
      "0                              16th St Depot             37.766349   \n",
      "1                     Valencia St at 22nd St             37.755213   \n",
      "2                   Emeryville Public Market             37.840521   \n",
      "3                     Pierce St at Haight St             37.771793   \n",
      "4  4th Ave at E 12th St (Temporary Location)             37.795913   \n",
      "\n",
      "   end_station_longitude  bike_id   user_type bike_share_for_all_trip  \\\n",
      "0            -122.396292     3491    Customer                      No   \n",
      "1            -122.420975     2457    Customer                      No   \n",
      "2            -122.293528     2750    Customer                      No   \n",
      "3            -122.433708      303  Subscriber                      No   \n",
      "4            -122.255547     2637  Subscriber                      No   \n",
      "\n",
      "  rental_access_method  \n",
      "0                  NaN  \n",
      "1                  NaN  \n",
      "2                  NaN  \n",
      "3                  NaN  \n",
      "4                  NaN  \n"
     ]
    }
   ],
   "source": [
    "# Get an overview of each dataset, starting with df_19\n",
    "print(df_19.shape)\n",
    "print(df_19.info())\n",
    "print(df_19.head())"
   ]
  },
  {
   "cell_type": "code",
   "execution_count": 4,
   "metadata": {},
   "outputs": [
    {
     "name": "stdout",
     "output_type": "stream",
     "text": [
      "(154967, 13)\n",
      "<class 'pandas.core.frame.DataFrame'>\n",
      "RangeIndex: 154967 entries, 0 to 154966\n",
      "Data columns (total 13 columns):\n",
      " #   Column              Non-Null Count   Dtype  \n",
      "---  ------              --------------   -----  \n",
      " 0   ride_id             154967 non-null  object \n",
      " 1   rideable_type       154967 non-null  object \n",
      " 2   started_at          154967 non-null  object \n",
      " 3   ended_at            154967 non-null  object \n",
      " 4   start_station_name  102589 non-null  object \n",
      " 5   start_station_id    102589 non-null  float64\n",
      " 6   end_station_name    100407 non-null  object \n",
      " 7   end_station_id      100407 non-null  float64\n",
      " 8   start_lat           154967 non-null  float64\n",
      " 9   start_lng           154967 non-null  float64\n",
      " 10  end_lat             154771 non-null  float64\n",
      " 11  end_lng             154771 non-null  float64\n",
      " 12  member_casual       154967 non-null  object \n",
      "dtypes: float64(6), object(7)\n",
      "memory usage: 15.4+ MB\n",
      "None\n",
      "            ride_id  rideable_type           started_at             ended_at  \\\n",
      "0  68213B7BB2420043  electric_bike  2020-07-31 17:36:17  2020-07-31 17:48:13   \n",
      "1  A64F0CD3A8E59529  electric_bike  2020-07-31 19:42:50  2020-07-31 19:49:54   \n",
      "2  B3690CA0F5179242  electric_bike  2020-07-31 17:18:46  2020-07-31 17:36:31   \n",
      "3  162FFE2E157F4C8F  electric_bike  2020-07-31 20:48:47  2020-07-31 21:05:04   \n",
      "4  C5DA8100F428B934  electric_bike  2020-07-31 20:18:24  2020-07-31 20:24:26   \n",
      "\n",
      "              start_station_name  start_station_id  \\\n",
      "0                            NaN               NaN   \n",
      "1  Buchanan St at North Point St             400.0   \n",
      "2                            NaN               NaN   \n",
      "3         Jersey St at Castro St             137.0   \n",
      "4        Market St at Steuart St              16.0   \n",
      "\n",
      "                end_station_name  end_station_id  start_lat   start_lng  \\\n",
      "0      McAllister St at Baker St            52.0  37.790000 -122.460000   \n",
      "1  Buchanan St at North Point St           400.0  37.804388 -122.433510   \n",
      "2             Hyde St at Post St           369.0  37.760000 -122.410000   \n",
      "3                            NaN             NaN  37.750576 -122.433743   \n",
      "4                            NaN             NaN  37.794582 -122.394791   \n",
      "\n",
      "     end_lat     end_lng member_casual  \n",
      "0  37.777414 -122.441949        casual  \n",
      "1  37.804408 -122.433509        casual  \n",
      "2  37.787422 -122.416777        casual  \n",
      "3  37.770000 -122.420000        casual  \n",
      "4  37.790000 -122.400000        casual  \n"
     ]
    }
   ],
   "source": [
    "# Get an overview of df_20\n",
    "print(df_20.shape)\n",
    "print(df_20.info())\n",
    "print(df_20.head())"
   ]
  },
  {
   "cell_type": "code",
   "execution_count": 5,
   "metadata": {},
   "outputs": [
    {
     "name": "stdout",
     "output_type": "stream",
     "text": [
      "        duration_sec  start_station_id  start_station_latitude  \\\n",
      "count  258102.000000     202215.000000           258102.000000   \n",
      "mean      841.716097        139.127369               37.759941   \n",
      "std      1747.999112        117.859707                0.116364   \n",
      "min        60.000000          3.000000               37.279518   \n",
      "25%       374.000000         44.000000               37.769218   \n",
      "50%       595.000000         98.000000               37.780760   \n",
      "75%       932.000000        223.000000               37.796320   \n",
      "max     86217.000000        443.000000               37.895300   \n",
      "\n",
      "       start_station_longitude  end_station_id  end_station_latitude  \\\n",
      "count            258102.000000   200526.000000         258102.000000   \n",
      "mean               -122.345750      136.327803             37.760129   \n",
      "std                   0.133508      116.987765              0.116361   \n",
      "min                -122.514299        3.000000             36.739538   \n",
      "25%                -122.412544       42.000000             37.769429   \n",
      "50%                -122.398279       93.000000             37.780955   \n",
      "75%                -122.289370      213.000000             37.797280   \n",
      "max                -121.826737      443.000000             37.912955   \n",
      "\n",
      "       end_station_longitude        bike_id  \n",
      "count          258102.000000  258102.000000  \n",
      "mean             -122.345354  163745.691184  \n",
      "std                 0.133165  263790.607498  \n",
      "min              -122.514287      12.000000  \n",
      "25%              -122.411738    1493.000000  \n",
      "50%              -122.397437    2940.000000  \n",
      "75%              -122.290230  294970.000000  \n",
      "max              -121.469453  999422.000000  \n",
      "       start_station_id  end_station_id      start_lat      start_lng  \\\n",
      "count      102589.00000   100407.000000  154967.000000  154967.000000   \n",
      "mean          224.38394      220.963837      37.732393    -122.357516   \n",
      "std           172.17782      172.435490       0.138354       0.167669   \n",
      "min             3.00000        3.000000      37.240000    -122.510000   \n",
      "25%            72.00000       72.000000      37.760000    -122.433274   \n",
      "50%           153.00000      145.000000      37.773981    -122.413233   \n",
      "75%           385.00000      384.000000      37.788299    -122.391967   \n",
      "max           534.00000      534.000000      37.880222    -121.770000   \n",
      "\n",
      "             end_lat        end_lng  \n",
      "count  154771.000000  154771.000000  \n",
      "mean       37.732502    -122.353342  \n",
      "std         0.138407       0.599176  \n",
      "min        37.230000    -122.510000  \n",
      "25%        37.760000    -122.432532  \n",
      "50%        37.773953    -122.412408  \n",
      "75%        37.788472    -122.391984  \n",
      "max        37.880222     -42.344893  \n"
     ]
    }
   ],
   "source": [
    "# Gather more information using describe()\n",
    "print(df_19.describe())\n",
    "print(df_20.describe())"
   ]
  },
  {
   "cell_type": "code",
   "execution_count": null,
   "metadata": {},
   "outputs": [],
   "source": []
  }
 ],
 "metadata": {
  "kernelspec": {
   "display_name": "Python 3",
   "language": "python",
   "name": "python3"
  },
  "language_info": {
   "codemirror_mode": {
    "name": "ipython",
    "version": 3
   },
   "file_extension": ".py",
   "mimetype": "text/x-python",
   "name": "python",
   "nbconvert_exporter": "python",
   "pygments_lexer": "ipython3",
   "version": "3.7.6"
  }
 },
 "nbformat": 4,
 "nbformat_minor": 4
}
